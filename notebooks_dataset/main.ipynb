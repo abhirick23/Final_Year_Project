{
 "cells": [
  {
   "attachments": {},
   "cell_type": "markdown",
   "metadata": {},
   "source": [
    "## The libraries\n",
    "#### A list of the libraries that will be used for this code."
   ]
  },
  {
   "cell_type": "code",
   "execution_count": 1,
   "metadata": {},
   "outputs": [],
   "source": [
    "import numpy as np\n",
    "import pandas as pd\n",
    "import tensorflow as tf"
   ]
  },
  {
   "cell_type": "code",
   "execution_count": 2,
   "metadata": {},
   "outputs": [],
   "source": [
    "#For pre-processing\n",
    "from sklearn.preprocessing import OneHotEncoder, StandardScaler\n",
    "from sklearn.compose import ColumnTransformer\n",
    "from sklearn.impute import SimpleImputer\n",
    "from sklearn.pipeline import Pipeline\n",
    "\n",
    "#for creating pikle fiies\n",
    "from joblib import dump\n",
    "import pickle\n",
    "\n",
    "# For splitting data into training and testing\n",
    "from sklearn.model_selection import train_test_split\n",
    "\n",
    "# metrics for calculations\n",
    "from sklearn.metrics import mean_squared_error, r2_score,mean_absolute_error\n",
    "from sklearn.metrics import accuracy_score, precision_score, recall_score, f1_score\n",
    "\n",
    "\n",
    "#the new models\n",
    "import numpy as np\n",
    "from sklearn.linear_model import LogisticRegression\n",
    "from sklearn.tree import DecisionTreeClassifier\n",
    "from sklearn.ensemble import RandomForestClassifier, GradientBoostingClassifier, AdaBoostClassifier\n",
    "from sklearn.svm import SVC\n",
    "from sklearn.naive_bayes import GaussianNB\n",
    "from sklearn.neighbors import KNeighborsClassifier\n",
    "from xgboost import XGBClassifier\n",
    "from catboost import CatBoostClassifier\n",
    "\n",
    "#for data visualization \n",
    "# import matplotlib.font_manager as fm\n",
    "import matplotlib.pyplot as plt\n",
    "import seaborn as sns\n",
    "from sklearn.metrics import confusion_matrix , classification_report\n",
    "\n",
    "\n",
    "# for hyperParameterTuning\n",
    "from sklearn.model_selection import RandomizedSearchCV\n",
    "from sklearn.model_selection import GridSearchCV\n",
    "\n",
    "# for creating deep learning models\n",
    "from tensorflow import keras\n",
    "from tensorflow.keras import layers\n",
    "\n",
    "#for predicting the output\n",
    "# from PE_file import func"
   ]
  },
  {
   "attachments": {},
   "cell_type": "markdown",
   "metadata": {},
   "source": [
    "## Importing and analysis of the Dataset\n",
    "#### Loading the data into the python code and running the preliminary analysis on the dataset"
   ]
  },
  {
   "cell_type": "code",
   "execution_count": 3,
   "metadata": {},
   "outputs": [],
   "source": [
    "df = pd.read_csv('data.csv', sep = '|')"
   ]
  },
  {
   "cell_type": "code",
   "execution_count": 4,
   "metadata": {},
   "outputs": [
    {
     "data": {
      "text/html": [
       "<div>\n",
       "<style scoped>\n",
       "    .dataframe tbody tr th:only-of-type {\n",
       "        vertical-align: middle;\n",
       "    }\n",
       "\n",
       "    .dataframe tbody tr th {\n",
       "        vertical-align: top;\n",
       "    }\n",
       "\n",
       "    .dataframe thead th {\n",
       "        text-align: right;\n",
       "    }\n",
       "</style>\n",
       "<table border=\"1\" class=\"dataframe\">\n",
       "  <thead>\n",
       "    <tr style=\"text-align: right;\">\n",
       "      <th></th>\n",
       "      <th>Name</th>\n",
       "      <th>md5</th>\n",
       "      <th>Machine</th>\n",
       "      <th>SizeOfOptionalHeader</th>\n",
       "      <th>Characteristics</th>\n",
       "      <th>MajorLinkerVersion</th>\n",
       "      <th>MinorLinkerVersion</th>\n",
       "      <th>SizeOfCode</th>\n",
       "      <th>SizeOfInitializedData</th>\n",
       "      <th>SizeOfUninitializedData</th>\n",
       "      <th>...</th>\n",
       "      <th>ResourcesNb</th>\n",
       "      <th>ResourcesMeanEntropy</th>\n",
       "      <th>ResourcesMinEntropy</th>\n",
       "      <th>ResourcesMaxEntropy</th>\n",
       "      <th>ResourcesMeanSize</th>\n",
       "      <th>ResourcesMinSize</th>\n",
       "      <th>ResourcesMaxSize</th>\n",
       "      <th>LoadConfigurationSize</th>\n",
       "      <th>VersionInformationSize</th>\n",
       "      <th>legitimate</th>\n",
       "    </tr>\n",
       "  </thead>\n",
       "  <tbody>\n",
       "    <tr>\n",
       "      <th>0</th>\n",
       "      <td>Windows.Internal.Shell.Broker.dll</td>\n",
       "      <td>09e83f1d1c99ad33009dbe6fb129c2d9</td>\n",
       "      <td>34404</td>\n",
       "      <td>240</td>\n",
       "      <td>8226</td>\n",
       "      <td>14</td>\n",
       "      <td>12</td>\n",
       "      <td>779776</td>\n",
       "      <td>253952</td>\n",
       "      <td>0</td>\n",
       "      <td>...</td>\n",
       "      <td>2</td>\n",
       "      <td>3.072050</td>\n",
       "      <td>2.706833</td>\n",
       "      <td>3.437268</td>\n",
       "      <td>604.000000</td>\n",
       "      <td>200</td>\n",
       "      <td>1008</td>\n",
       "      <td>256</td>\n",
       "      <td>16</td>\n",
       "      <td>1</td>\n",
       "    </tr>\n",
       "    <tr>\n",
       "      <th>1</th>\n",
       "      <td>hidserv.dll</td>\n",
       "      <td>3030f19c6a73367d6d5eedd157f5d01a</td>\n",
       "      <td>34404</td>\n",
       "      <td>240</td>\n",
       "      <td>8226</td>\n",
       "      <td>14</td>\n",
       "      <td>12</td>\n",
       "      <td>21504</td>\n",
       "      <td>13312</td>\n",
       "      <td>0</td>\n",
       "      <td>...</td>\n",
       "      <td>3</td>\n",
       "      <td>3.056204</td>\n",
       "      <td>2.709457</td>\n",
       "      <td>3.465499</td>\n",
       "      <td>515.333333</td>\n",
       "      <td>200</td>\n",
       "      <td>932</td>\n",
       "      <td>256</td>\n",
       "      <td>16</td>\n",
       "      <td>1</td>\n",
       "    </tr>\n",
       "    <tr>\n",
       "      <th>2</th>\n",
       "      <td>DmApiSetExtImplDesktop.dll</td>\n",
       "      <td>8271846f8f5dd1cfddaa957b1b9da1a2</td>\n",
       "      <td>34404</td>\n",
       "      <td>240</td>\n",
       "      <td>8226</td>\n",
       "      <td>14</td>\n",
       "      <td>12</td>\n",
       "      <td>33792</td>\n",
       "      <td>27648</td>\n",
       "      <td>0</td>\n",
       "      <td>...</td>\n",
       "      <td>1</td>\n",
       "      <td>3.466474</td>\n",
       "      <td>3.466474</td>\n",
       "      <td>3.466474</td>\n",
       "      <td>980.000000</td>\n",
       "      <td>980</td>\n",
       "      <td>980</td>\n",
       "      <td>256</td>\n",
       "      <td>16</td>\n",
       "      <td>1</td>\n",
       "    </tr>\n",
       "    <tr>\n",
       "      <th>3</th>\n",
       "      <td>FSResizerSetup27.exe</td>\n",
       "      <td>5802b4215566bb9593a736e945a28e99</td>\n",
       "      <td>332</td>\n",
       "      <td>224</td>\n",
       "      <td>271</td>\n",
       "      <td>6</td>\n",
       "      <td>0</td>\n",
       "      <td>23552</td>\n",
       "      <td>164864</td>\n",
       "      <td>1024</td>\n",
       "      <td>...</td>\n",
       "      <td>9</td>\n",
       "      <td>3.032143</td>\n",
       "      <td>1.971335</td>\n",
       "      <td>5.102472</td>\n",
       "      <td>363.444444</td>\n",
       "      <td>34</td>\n",
       "      <td>744</td>\n",
       "      <td>0</td>\n",
       "      <td>0</td>\n",
       "      <td>1</td>\n",
       "    </tr>\n",
       "    <tr>\n",
       "      <th>4</th>\n",
       "      <td>asc-setup.exe</td>\n",
       "      <td>8cb1fb45489d065720285deeccbacd98</td>\n",
       "      <td>332</td>\n",
       "      <td>224</td>\n",
       "      <td>33167</td>\n",
       "      <td>2</td>\n",
       "      <td>25</td>\n",
       "      <td>87040</td>\n",
       "      <td>71680</td>\n",
       "      <td>0</td>\n",
       "      <td>...</td>\n",
       "      <td>19</td>\n",
       "      <td>4.402265</td>\n",
       "      <td>2.699131</td>\n",
       "      <td>6.600332</td>\n",
       "      <td>3275.473684</td>\n",
       "      <td>16</td>\n",
       "      <td>33512</td>\n",
       "      <td>0</td>\n",
       "      <td>15</td>\n",
       "      <td>1</td>\n",
       "    </tr>\n",
       "  </tbody>\n",
       "</table>\n",
       "<p>5 rows × 57 columns</p>\n",
       "</div>"
      ],
      "text/plain": [
       "                                Name                               md5   \n",
       "0  Windows.Internal.Shell.Broker.dll  09e83f1d1c99ad33009dbe6fb129c2d9  \\\n",
       "1                        hidserv.dll  3030f19c6a73367d6d5eedd157f5d01a   \n",
       "2         DmApiSetExtImplDesktop.dll  8271846f8f5dd1cfddaa957b1b9da1a2   \n",
       "3               FSResizerSetup27.exe  5802b4215566bb9593a736e945a28e99   \n",
       "4                      asc-setup.exe  8cb1fb45489d065720285deeccbacd98   \n",
       "\n",
       "   Machine  SizeOfOptionalHeader  Characteristics  MajorLinkerVersion   \n",
       "0    34404                   240             8226                  14  \\\n",
       "1    34404                   240             8226                  14   \n",
       "2    34404                   240             8226                  14   \n",
       "3      332                   224              271                   6   \n",
       "4      332                   224            33167                   2   \n",
       "\n",
       "   MinorLinkerVersion  SizeOfCode  SizeOfInitializedData   \n",
       "0                  12      779776                 253952  \\\n",
       "1                  12       21504                  13312   \n",
       "2                  12       33792                  27648   \n",
       "3                   0       23552                 164864   \n",
       "4                  25       87040                  71680   \n",
       "\n",
       "   SizeOfUninitializedData  ...  ResourcesNb  ResourcesMeanEntropy   \n",
       "0                        0  ...            2              3.072050  \\\n",
       "1                        0  ...            3              3.056204   \n",
       "2                        0  ...            1              3.466474   \n",
       "3                     1024  ...            9              3.032143   \n",
       "4                        0  ...           19              4.402265   \n",
       "\n",
       "   ResourcesMinEntropy  ResourcesMaxEntropy  ResourcesMeanSize   \n",
       "0             2.706833             3.437268         604.000000  \\\n",
       "1             2.709457             3.465499         515.333333   \n",
       "2             3.466474             3.466474         980.000000   \n",
       "3             1.971335             5.102472         363.444444   \n",
       "4             2.699131             6.600332        3275.473684   \n",
       "\n",
       "   ResourcesMinSize  ResourcesMaxSize  LoadConfigurationSize   \n",
       "0               200              1008                    256  \\\n",
       "1               200               932                    256   \n",
       "2               980               980                    256   \n",
       "3                34               744                      0   \n",
       "4                16             33512                      0   \n",
       "\n",
       "   VersionInformationSize  legitimate  \n",
       "0                      16           1  \n",
       "1                      16           1  \n",
       "2                      16           1  \n",
       "3                       0           1  \n",
       "4                      15           1  \n",
       "\n",
       "[5 rows x 57 columns]"
      ]
     },
     "execution_count": 4,
     "metadata": {},
     "output_type": "execute_result"
    }
   ],
   "source": [
    "df.head()"
   ]
  },
  {
   "cell_type": "code",
   "execution_count": 5,
   "metadata": {},
   "outputs": [
    {
     "name": "stdout",
     "output_type": "stream",
     "text": [
      "We have 55 numerical features : ['Machine', 'SizeOfOptionalHeader', 'Characteristics', 'MajorLinkerVersion', 'MinorLinkerVersion', 'SizeOfCode', 'SizeOfInitializedData', 'SizeOfUninitializedData', 'AddressOfEntryPoint', 'BaseOfCode', 'BaseOfData', 'ImageBase', 'SectionAlignment', 'FileAlignment', 'MajorOperatingSystemVersion', 'MinorOperatingSystemVersion', 'MajorImageVersion', 'MinorImageVersion', 'MajorSubsystemVersion', 'MinorSubsystemVersion', 'SizeOfImage', 'SizeOfHeaders', 'CheckSum', 'Subsystem', 'DllCharacteristics', 'SizeOfStackReserve', 'SizeOfStackCommit', 'SizeOfHeapReserve', 'SizeOfHeapCommit', 'LoaderFlags', 'NumberOfRvaAndSizes', 'SectionsNb', 'SectionsMeanEntropy', 'SectionsMinEntropy', 'SectionsMaxEntropy', 'SectionsMeanRawsize', 'SectionsMinRawsize', 'SectionMaxRawsize', 'SectionsMeanVirtualsize', 'SectionsMinVirtualsize', 'SectionMaxVirtualsize', 'ImportsNbDLL', 'ImportsNb', 'ImportsNbOrdinal', 'ExportNb', 'ResourcesNb', 'ResourcesMeanEntropy', 'ResourcesMinEntropy', 'ResourcesMaxEntropy', 'ResourcesMeanSize', 'ResourcesMinSize', 'ResourcesMaxSize', 'LoadConfigurationSize', 'VersionInformationSize', 'legitimate']\n",
      "\n",
      "We have 2 categorical features : ['Name', 'md5']\n"
     ]
    }
   ],
   "source": [
    "numeric_features = [feature for feature in df.columns if df[feature].dtype != 'O']\n",
    "categorical_features = [feature for feature in df.columns if df[feature].dtype == 'O']\n",
    "\n",
    "print('We have {} numerical features : {}'.format(len(numeric_features), numeric_features))\n",
    "print('\\nWe have {} categorical features : {}'.format(len(categorical_features), categorical_features))\n"
   ]
  },
  {
   "cell_type": "code",
   "execution_count": 6,
   "metadata": {},
   "outputs": [],
   "source": [
    "num_features = df.select_dtypes(exclude=\"object\").columns\n",
    "cat_features = df.select_dtypes(include=\"object\").columns"
   ]
  },
  {
   "cell_type": "code",
   "execution_count": 7,
   "metadata": {},
   "outputs": [],
   "source": [
    "num_features = num_features.drop(\"legitimate\")"
   ]
  },
  {
   "attachments": {},
   "cell_type": "markdown",
   "metadata": {},
   "source": [
    "## Data splitting and pre-processing \n",
    "#### Creating the test and train datasets and then pre-processing both the datasets"
   ]
  },
  {
   "cell_type": "code",
   "execution_count": 8,
   "metadata": {},
   "outputs": [],
   "source": [
    "train_data,test_data=train_test_split(df,test_size=0.24,random_state=42)\n"
   ]
  },
  {
   "cell_type": "code",
   "execution_count": 9,
   "metadata": {},
   "outputs": [],
   "source": [
    "num_pipeline= Pipeline(\n",
    "                steps=[\n",
    "                (\"imputer\",SimpleImputer(strategy=\"median\")),\n",
    "                (\"scaler\",StandardScaler())\n",
    "\n",
    "                ]\n",
    "            )\n",
    "\n",
    "cat_pipeline=Pipeline(\n",
    "\n",
    "    steps=[\n",
    "    (\"imputer\",SimpleImputer(strategy=\"most_frequent\")),\n",
    "    (\"one_hot_encoder\",OneHotEncoder(handle_unknown='ignore')),\n",
    "    (\"scaler\",StandardScaler(with_mean=False))\n",
    "    ]\n",
    "\n",
    ")"
   ]
  },
  {
   "cell_type": "code",
   "execution_count": 10,
   "metadata": {},
   "outputs": [],
   "source": [
    "preprocessor=ColumnTransformer(\n",
    "                [\n",
    "                (\"num_pipeline\",num_pipeline,num_features),\n",
    "                (\"cat_pipelines\",cat_pipeline,cat_features)\n",
    "                ])"
   ]
  },
  {
   "cell_type": "code",
   "execution_count": 11,
   "metadata": {},
   "outputs": [],
   "source": [
    "target_column_name = \"legitimate\"\n",
    "\n",
    "input_feature_train_data=train_data.drop(columns=[target_column_name],axis=1)\n",
    "target_feature_train_data=train_data[target_column_name]\n",
    "\n",
    "input_feature_test_data=test_data.drop(columns=[target_column_name],axis=1)\n",
    "target_feature_test_data=test_data[target_column_name]\n",
    "            \n",
    "input_feature_train = preprocessor.fit_transform(input_feature_train_data)\n",
    "input_feature_test = preprocessor.transform(input_feature_test_data)\n",
    "            \n",
    "train_array = np.c_[input_feature_train.toarray(),np.array(target_feature_train_data)]\n",
    "test_array = np.c_[input_feature_test.toarray(),np.array(target_feature_test_data)]\n"
   ]
  },
  {
   "cell_type": "code",
   "execution_count": 47,
   "metadata": {},
   "outputs": [],
   "source": [
    "with open(\"preprocessor.pkl\",\"wb\") as f:\n",
    "    pickle.dump(preprocessor, f)"
   ]
  },
  {
   "cell_type": "code",
   "execution_count": 12,
   "metadata": {},
   "outputs": [],
   "source": [
    "X_train,y_train,X_test,y_test=(\n",
    "                train_array[:,:-1],\n",
    "                train_array[:,-1],\n",
    "                test_array[:,:-1],\n",
    "                test_array[:,-1]\n",
    "            )"
   ]
  },
  {
   "attachments": {},
   "cell_type": "markdown",
   "metadata": {},
   "source": [
    "## Modelling and training the data\n",
    "#### Initializing the models and function to fit the splitted data into the various models being considered."
   ]
  },
  {
   "cell_type": "code",
   "execution_count": 13,
   "metadata": {},
   "outputs": [],
   "source": [
    "new_models = {\n",
    "    \"Logistic Regression\": LogisticRegression(),\n",
    "    \"K-Neighbors Classifier\": KNeighborsClassifier(),\n",
    "    \"Decision Tree\": DecisionTreeClassifier(),\n",
    "    \"Random Forest Classifier\": RandomForestClassifier(),\n",
    "    \"XGBClassifier\": XGBClassifier(), \n",
    "    \"CatBoosting Classifier\": CatBoostClassifier(verbose=False),\n",
    "    \"Gradient Boosting Classifier\": GradientBoostingClassifier(),\n",
    "    \"AdaBoost Classifier\": AdaBoostClassifier(),\n",
    "    \"Naive Bayes\": GaussianNB(),\n",
    "}"
   ]
  },
  {
   "cell_type": "code",
   "execution_count": 14,
   "metadata": {},
   "outputs": [],
   "source": [
    "def evaluate_model(true, predicted):\n",
    "    metrics = []\n",
    "    mae = mean_absolute_error(true, predicted)\n",
    "    mse = mean_squared_error(true, predicted)\n",
    "    rmse = np.sqrt(mse)\n",
    "    r2_square = r2_score(true, predicted)\n",
    "    accuracy = accuracy_score(true, predicted)\n",
    "    precision = precision_score(true, predicted)\n",
    "    recall = recall_score(true, predicted)\n",
    "    f1 = f1_score(true, predicted)\n",
    "    metrics.append((mae, rmse,precision, recall, f1))\n",
    "    return r2_square,accuracy,metrics"
   ]
  },
  {
   "cell_type": "code",
   "execution_count": 15,
   "metadata": {},
   "outputs": [
    {
     "name": "stdout",
     "output_type": "stream",
     "text": [
      "Logistic Regression\n",
      "Model performance for Training set\n",
      "- R2 Score: 1.0000\n",
      "- Accusracy: 1.0000\n",
      "----------------------------------\n",
      "Model performance for Test set\n",
      "- R2 Score: 0.8372\n",
      "- Accusracy: 0.9636\n",
      "===================================\n",
      "\n",
      "\n",
      "K-Neighbors Classifier\n",
      "Model performance for Training set\n",
      "- R2 Score: -1.9795\n",
      "- Accusracy: 0.3356\n",
      "----------------------------------\n",
      "Model performance for Test set\n",
      "- R2 Score: -1.9695\n",
      "- Accusracy: 0.3368\n",
      "===================================\n",
      "\n",
      "\n",
      "Decision Tree\n",
      "Model performance for Training set\n",
      "- R2 Score: 1.0000\n",
      "- Accusracy: 1.0000\n",
      "----------------------------------\n",
      "Model performance for Test set\n",
      "- R2 Score: 0.8885\n",
      "- Accusracy: 0.9751\n",
      "===================================\n",
      "\n",
      "\n",
      "Random Forest Classifier\n",
      "Model performance for Training set\n",
      "- R2 Score: 1.0000\n",
      "- Accusracy: 1.0000\n",
      "----------------------------------\n",
      "Model performance for Test set\n",
      "- R2 Score: 0.9168\n",
      "- Accusracy: 0.9814\n",
      "===================================\n",
      "\n",
      "\n",
      "XGBClassifier\n",
      "Model performance for Training set\n",
      "- R2 Score: 0.9989\n",
      "- Accusracy: 0.9998\n",
      "----------------------------------\n",
      "Model performance for Test set\n",
      "- R2 Score: 0.9186\n",
      "- Accusracy: 0.9818\n",
      "===================================\n",
      "\n",
      "\n",
      "CatBoosting Classifier\n",
      "Model performance for Training set\n",
      "- R2 Score: 0.9233\n",
      "- Accusracy: 0.9829\n",
      "----------------------------------\n",
      "Model performance for Test set\n",
      "- R2 Score: 0.9097\n",
      "- Accusracy: 0.9798\n",
      "===================================\n",
      "\n",
      "\n",
      "Gradient Boosting Classifier\n",
      "Model performance for Training set\n",
      "- R2 Score: 0.9009\n",
      "- Accusracy: 0.9779\n",
      "----------------------------------\n",
      "Model performance for Test set\n",
      "- R2 Score: 0.8991\n",
      "- Accusracy: 0.9775\n",
      "===================================\n",
      "\n",
      "\n",
      "AdaBoost Classifier\n",
      "Model performance for Training set\n",
      "- R2 Score: 0.8970\n",
      "- Accusracy: 0.9770\n",
      "----------------------------------\n",
      "Model performance for Test set\n",
      "- R2 Score: 0.8708\n",
      "- Accusracy: 0.9711\n",
      "===================================\n",
      "\n",
      "\n",
      "Naive Bayes\n",
      "Model performance for Training set\n",
      "- R2 Score: 1.0000\n",
      "- Accusracy: 1.0000\n",
      "----------------------------------\n",
      "Model performance for Test set\n",
      "- R2 Score: -1.9500\n",
      "- Accusracy: 0.3411\n",
      "===================================\n",
      "\n",
      "\n"
     ]
    }
   ],
   "source": [
    "model_list = []\n",
    "r2_list =[]\n",
    "accuracy_list = []\n",
    "# RMSE_list = []\n",
    "# MAE_list = []\n",
    "\n",
    "for i in range(len(list(new_models))):\n",
    "    model = list(new_models.values())[i]\n",
    "    model.fit(X_train, y_train) # Train model\n",
    "\n",
    "    # Make predictions\n",
    "    y_train_pred = model.predict(X_train)\n",
    "    y_test_pred = model.predict(X_test)\n",
    "    \n",
    "    # Evaluate Train and Test dataset\n",
    "    model_train_r2,model_train_accuracy,train_metrics = evaluate_model(y_train, y_train_pred)\n",
    "\n",
    "    model_test_r2,model_test_accuracy,test_metrics = evaluate_model(y_test, y_test_pred)\n",
    "\n",
    "    \n",
    "    print(list(new_models.keys())[i])\n",
    "    model_list.append(list(new_models.keys())[i])\n",
    "    \n",
    "    print('Model performance for Training set')\n",
    "    # print(\"- Root Mean Squared Error: {:.4f}\".format(model_train_rmse))\n",
    "    # print(\"- Mean Absolute Error: {:.4f}\".format(model_train_mae))\n",
    "    print(\"- R2 Score: {:.4f}\".format(model_train_r2))\n",
    "    print(\"- Accusracy: {:.4f}\".format(model_train_accuracy))\n",
    "\n",
    "    print('----------------------------------')\n",
    "    \n",
    "    print('Model performance for Test set')\n",
    "    # print(\"- Root Mean Squared Error: {:.4f}\".format(model_test_rmse))\n",
    "    # print(\"- Mean Absolute Error: {:.4f}\".format(model_test_mae))\n",
    "    print(\"- R2 Score: {:.4f}\".format(model_test_r2))\n",
    "    print(\"- Accusracy: {:.4f}\".format(model_test_accuracy))\n",
    "    \n",
    "    # appending the r2 score, mean absolute erroor and root mean squared error\n",
    "    # RMSE_list.append(model_test_rmse)\n",
    "    # MAE_list.append(model_test_mae)\n",
    "    r2_list.append(model_test_r2)\n",
    "    accuracy_list.append(model_test_accuracy)\n",
    "    \n",
    "    \n",
    "    print('='*35)\n",
    "    print('\\n')"
   ]
  },
  {
   "attachments": {},
   "cell_type": "markdown",
   "metadata": {},
   "source": [
    "## Visualizing the results \n",
    "#### Creating tables , plots, charts and other visualizing tools for understanding the primary result achieved"
   ]
  },
  {
   "cell_type": "code",
   "execution_count": 16,
   "metadata": {},
   "outputs": [],
   "source": [
    "table  = pd.DataFrame(list(zip(model_list, r2_list,accuracy_list)), columns=['Model Name', 'R2_Score',\"Accuracy\"]).sort_values(by=[\"R2_Score\"],ascending=False)"
   ]
  },
  {
   "cell_type": "code",
   "execution_count": 17,
   "metadata": {},
   "outputs": [
    {
     "data": {
      "text/html": [
       "<div>\n",
       "<style scoped>\n",
       "    .dataframe tbody tr th:only-of-type {\n",
       "        vertical-align: middle;\n",
       "    }\n",
       "\n",
       "    .dataframe tbody tr th {\n",
       "        vertical-align: top;\n",
       "    }\n",
       "\n",
       "    .dataframe thead th {\n",
       "        text-align: right;\n",
       "    }\n",
       "</style>\n",
       "<table border=\"1\" class=\"dataframe\">\n",
       "  <thead>\n",
       "    <tr style=\"text-align: right;\">\n",
       "      <th></th>\n",
       "      <th>Model Name</th>\n",
       "      <th>R2_Score</th>\n",
       "      <th>Accuracy</th>\n",
       "    </tr>\n",
       "  </thead>\n",
       "  <tbody>\n",
       "    <tr>\n",
       "      <th>4</th>\n",
       "      <td>XGBClassifier</td>\n",
       "      <td>0.918596</td>\n",
       "      <td>0.981818</td>\n",
       "    </tr>\n",
       "    <tr>\n",
       "      <th>3</th>\n",
       "      <td>Random Forest Classifier</td>\n",
       "      <td>0.916826</td>\n",
       "      <td>0.981423</td>\n",
       "    </tr>\n",
       "    <tr>\n",
       "      <th>5</th>\n",
       "      <td>CatBoosting Classifier</td>\n",
       "      <td>0.909748</td>\n",
       "      <td>0.979842</td>\n",
       "    </tr>\n",
       "    <tr>\n",
       "      <th>6</th>\n",
       "      <td>Gradient Boosting Classifier</td>\n",
       "      <td>0.899130</td>\n",
       "      <td>0.977470</td>\n",
       "    </tr>\n",
       "    <tr>\n",
       "      <th>2</th>\n",
       "      <td>Decision Tree</td>\n",
       "      <td>0.888512</td>\n",
       "      <td>0.975099</td>\n",
       "    </tr>\n",
       "    <tr>\n",
       "      <th>7</th>\n",
       "      <td>AdaBoost Classifier</td>\n",
       "      <td>0.870815</td>\n",
       "      <td>0.971146</td>\n",
       "    </tr>\n",
       "    <tr>\n",
       "      <th>0</th>\n",
       "      <td>Logistic Regression</td>\n",
       "      <td>0.837192</td>\n",
       "      <td>0.963636</td>\n",
       "    </tr>\n",
       "    <tr>\n",
       "      <th>8</th>\n",
       "      <td>Naive Bayes</td>\n",
       "      <td>-1.950017</td>\n",
       "      <td>0.341107</td>\n",
       "    </tr>\n",
       "    <tr>\n",
       "      <th>1</th>\n",
       "      <td>K-Neighbors Classifier</td>\n",
       "      <td>-1.969484</td>\n",
       "      <td>0.336759</td>\n",
       "    </tr>\n",
       "  </tbody>\n",
       "</table>\n",
       "</div>"
      ],
      "text/plain": [
       "                     Model Name  R2_Score  Accuracy\n",
       "4                 XGBClassifier  0.918596  0.981818\n",
       "3      Random Forest Classifier  0.916826  0.981423\n",
       "5        CatBoosting Classifier  0.909748  0.979842\n",
       "6  Gradient Boosting Classifier  0.899130  0.977470\n",
       "2                 Decision Tree  0.888512  0.975099\n",
       "7           AdaBoost Classifier  0.870815  0.971146\n",
       "0           Logistic Regression  0.837192  0.963636\n",
       "8                   Naive Bayes -1.950017  0.341107\n",
       "1        K-Neighbors Classifier -1.969484  0.336759"
      ]
     },
     "execution_count": 17,
     "metadata": {},
     "output_type": "execute_result"
    }
   ],
   "source": [
    "table"
   ]
  },
  {
   "cell_type": "code",
   "execution_count": 18,
   "metadata": {},
   "outputs": [
    {
     "name": "stdout",
     "output_type": "stream",
     "text": [
      " Accuracy of the model is 91.86\n"
     ]
    }
   ],
   "source": [
    "XGB_model = XGBClassifier()\n",
    "XGB_model = XGB_model.fit(X_train,y_train)\n",
    "y_pred = XGB_model.predict(X_test)\n",
    "score  = r2_score(y_test,y_pred)*100\n",
    "print(\" Accuracy of the model is %.2f\" %score)"
   ]
  },
  {
   "cell_type": "code",
   "execution_count": 19,
   "metadata": {},
   "outputs": [
    {
     "data": {
      "image/png": "[encoded data removed]",
      "text/plain": [
       "<Figure size 640x480 with 1 Axes>"
      ]
     },
     "metadata": {},
     "output_type": "display_data"
    }
   ],
   "source": [
    "X_axis = table['Model Name']\n",
    "Y_axis_1 = table['R2_Score']\n",
    "Y_axis_2 = table['Accuracy']\n",
    "\n",
    "# Create the plot\n",
    "fig, ax = plt.subplots()\n",
    "\n",
    "ax.plot(X_axis, Y_axis_1, color='red', marker='o', label='R2 Score')\n",
    "ax.plot(X_axis, Y_axis_2, color='blue', marker='o', label='Accuracy')\n",
    "\n",
    "for i, j in zip(X_axis, Y_axis_1):\n",
    "    ax.annotate(str(round(j, 3)), xy=(i, j), xytext=(i, j+0.01), ha='center')\n",
    "\n",
    "for i, j in zip(X_axis, Y_axis_2):\n",
    "    ax.annotate(str(round(j, 3)), xy=(i, j), xytext=(i, j+0.01), ha='center')\n",
    "\n",
    "# Set axis labels and title\n",
    "plt.xticks(rotation=50)\n",
    "plt.title('Model Comparison')\n",
    "plt.xlabel('Model Name')\n",
    "plt.ylabel('Score')\n",
    "\n",
    "# Add legend\n",
    "ax.legend()\n",
    "\n",
    "# Show the plot\n",
    "plt.show()\n"
   ]
  },
  {
   "cell_type": "code",
   "execution_count": 20,
   "metadata": {},
   "outputs": [
    {
     "data": {
      "text/html": [
       "<div>\n",
       "<style scoped>\n",
       "    .dataframe tbody tr th:only-of-type {\n",
       "        vertical-align: middle;\n",
       "    }\n",
       "\n",
       "    .dataframe tbody tr th {\n",
       "        vertical-align: top;\n",
       "    }\n",
       "\n",
       "    .dataframe thead th {\n",
       "        text-align: right;\n",
       "    }\n",
       "</style>\n",
       "<table border=\"1\" class=\"dataframe\">\n",
       "  <thead>\n",
       "    <tr style=\"text-align: right;\">\n",
       "      <th></th>\n",
       "      <th>Actual Value</th>\n",
       "      <th>Predicted Value</th>\n",
       "      <th>Difference</th>\n",
       "    </tr>\n",
       "  </thead>\n",
       "  <tbody>\n",
       "    <tr>\n",
       "      <th>0</th>\n",
       "      <td>1.0</td>\n",
       "      <td>1</td>\n",
       "      <td>0.0</td>\n",
       "    </tr>\n",
       "    <tr>\n",
       "      <th>1</th>\n",
       "      <td>1.0</td>\n",
       "      <td>0</td>\n",
       "      <td>1.0</td>\n",
       "    </tr>\n",
       "    <tr>\n",
       "      <th>2</th>\n",
       "      <td>0.0</td>\n",
       "      <td>0</td>\n",
       "      <td>0.0</td>\n",
       "    </tr>\n",
       "    <tr>\n",
       "      <th>3</th>\n",
       "      <td>0.0</td>\n",
       "      <td>0</td>\n",
       "      <td>0.0</td>\n",
       "    </tr>\n",
       "    <tr>\n",
       "      <th>4</th>\n",
       "      <td>0.0</td>\n",
       "      <td>0</td>\n",
       "      <td>0.0</td>\n",
       "    </tr>\n",
       "    <tr>\n",
       "      <th>...</th>\n",
       "      <td>...</td>\n",
       "      <td>...</td>\n",
       "      <td>...</td>\n",
       "    </tr>\n",
       "    <tr>\n",
       "      <th>2525</th>\n",
       "      <td>0.0</td>\n",
       "      <td>0</td>\n",
       "      <td>0.0</td>\n",
       "    </tr>\n",
       "    <tr>\n",
       "      <th>2526</th>\n",
       "      <td>1.0</td>\n",
       "      <td>1</td>\n",
       "      <td>0.0</td>\n",
       "    </tr>\n",
       "    <tr>\n",
       "      <th>2527</th>\n",
       "      <td>0.0</td>\n",
       "      <td>0</td>\n",
       "      <td>0.0</td>\n",
       "    </tr>\n",
       "    <tr>\n",
       "      <th>2528</th>\n",
       "      <td>0.0</td>\n",
       "      <td>0</td>\n",
       "      <td>0.0</td>\n",
       "    </tr>\n",
       "    <tr>\n",
       "      <th>2529</th>\n",
       "      <td>1.0</td>\n",
       "      <td>1</td>\n",
       "      <td>0.0</td>\n",
       "    </tr>\n",
       "  </tbody>\n",
       "</table>\n",
       "<p>2530 rows × 3 columns</p>\n",
       "</div>"
      ],
      "text/plain": [
       "      Actual Value  Predicted Value  Difference\n",
       "0              1.0                1         0.0\n",
       "1              1.0                0         1.0\n",
       "2              0.0                0         0.0\n",
       "3              0.0                0         0.0\n",
       "4              0.0                0         0.0\n",
       "...            ...              ...         ...\n",
       "2525           0.0                0         0.0\n",
       "2526           1.0                1         0.0\n",
       "2527           0.0                0         0.0\n",
       "2528           0.0                0         0.0\n",
       "2529           1.0                1         0.0\n",
       "\n",
       "[2530 rows x 3 columns]"
      ]
     },
     "execution_count": 20,
     "metadata": {},
     "output_type": "execute_result"
    }
   ],
   "source": [
    "pred_df=pd.DataFrame({'Actual Value':y_test,'Predicted Value':y_pred,'Difference':y_test-y_pred})\n",
    "pred_df"
   ]
  },
  {
   "attachments": {},
   "cell_type": "markdown",
   "metadata": {},
   "source": [
    "## HyperParameter Tuning\n",
    "### Tuning the parameters for each of the algorithms used to reach the most optimal result"
   ]
  },
  {
   "cell_type": "code",
   "execution_count": 28,
   "metadata": {},
   "outputs": [],
   "source": [
    "params={\n",
    "            \"Naive Bayes\":{},\n",
    "            \"Decision Tree\": {\n",
    "                'criterion':['gini', 'entropy', 'log_loss'],\n",
    "                # 'splitter':['best','random'],\n",
    "                # 'max_features':['auto','sqrt','log2'],\n",
    "            },\n",
    "            \"Random Forest Classifier\":{\n",
    "                # 'criterion':['gini', 'entropy', 'log_loss'],       \n",
    "                # 'max_features':['sqrt','log2',None],\n",
    "                'n_estimators': [8,16,32,64,128,256]\n",
    "            },\n",
    "            \"Gradient Boosting Classifier\":{\n",
    "                # 'loss':['log_loss', 'deviance', 'exponential'],\n",
    "                # 'learning_rate':[.1,.01,.05,.001],\n",
    "                # 'subsample':[0.6,0.7,0.75,0.8,0.85,0.9],\n",
    "                # 'criterion':['squared_error', 'friedman_mse'],\n",
    "                # 'max_features':['auto','sqrt','log2'],\n",
    "                # 'n_estimators': [8,16,32,64,128,256]\n",
    "            },\n",
    "            \"Logistic Regression\":{},\n",
    "            \"XGBClassifier\":{\n",
    "                # 'learning_rate':[.1,.01,.05,.001],\n",
    "                'n_estimators': [8,16,32,64,128,256]\n",
    "            },\n",
    "            \"CatBoosting Classifier\":{\n",
    "                # 'depth': [6,8,10],\n",
    "                # 'learning_rate': [0.01, 0.05, 0.1],\n",
    "                # 'iterations': [30, 50, 100]\n",
    "            },\n",
    "            \"AdaBoost Classifier\":{\n",
    "                'learning_rate':[.1,.01,0.5,.001],\n",
    "                # 'loss':['linear','square','exponential'],\n",
    "                'n_estimators': [8,16,32,64,128,256]\n",
    "            },\n",
    "            \"K-Neighbors Classifier\":{\n",
    "                'n_neighbors':[1,3,5,7,9],\n",
    "                'weights':['uniform', 'distance']\n",
    "            }\n",
    "        }"
   ]
  },
  {
   "cell_type": "code",
   "execution_count": 29,
   "metadata": {},
   "outputs": [],
   "source": [
    "def evaluate_params(X_train,y_train,X_test,y_test,models,param):\n",
    "    report = {}\n",
    "    \n",
    "    for i in range(len(list(models))):\n",
    "        model = list(models.values())[i]\n",
    "        para = param[list(models.keys())[i]]\n",
    "        \n",
    "        gs  = GridSearchCV(model,para,cv=5)\n",
    "        gs.fit(X_train,y_train)\n",
    "        \n",
    "        model.set_params(**gs.best_params_)\n",
    "        model.fit(X_train,y_train)\n",
    "        \n",
    "        \n",
    "        y_train_pred = model.predict(X_train)\n",
    "        \n",
    "        y_test_pred = model.predict(X_test)\n",
    "        \n",
    "        train_model_r2_score = r2_score(y_train,y_train_pred)\n",
    "        train_model_accuracy_score = accuracy_score(y_train,y_train_pred)\n",
    "        \n",
    "        test_model_r2_score = r2_score(y_test,y_test_pred)\n",
    "        test_model_accuracy_score = accuracy_score(y_test,y_test_pred)\n",
    "        \n",
    "        report[list(models.keys())[i]] = (test_model_r2_score,test_model_accuracy_score)\n",
    "        print(report)\n",
    "    return report"
   ]
  },
  {
   "cell_type": "code",
   "execution_count": null,
   "metadata": {},
   "outputs": [],
   "source": [
    "result = evaluate_params(X_train,y_train,X_test,y_test,new_models,params)"
   ]
  },
  {
   "attachments": {},
   "cell_type": "markdown",
   "metadata": {},
   "source": [
    "## Barse run till this section of the code"
   ]
  },
  {
   "attachments": {},
   "cell_type": "markdown",
   "metadata": {},
   "source": [
    "## Saving the BEST Machine learning Model"
   ]
  },
  {
   "cell_type": "code",
   "execution_count": 31,
   "metadata": {},
   "outputs": [],
   "source": [
    "with open('model.pkl', 'wb') as f:\n",
    "    pickle.dump(XGB_model, f)"
   ]
  },
  {
   "attachments": {},
   "cell_type": "markdown",
   "metadata": {},
   "source": [
    "## Deep Learning Implementation\n",
    "\n",
    "#### The blocks below creates a Neural network and trains a deep learning model"
   ]
  },
  {
   "cell_type": "code",
   "execution_count": 32,
   "metadata": {},
   "outputs": [
    {
     "name": "stdout",
     "output_type": "stream",
     "text": [
      "Model: \"sequential\"\n",
      "_________________________________________________________________\n",
      " Layer (type)                Output Shape              Param #   \n",
      "=================================================================\n",
      " dense (Dense)               (None, 64)                1028288   \n",
      "                                                                 \n",
      " dense_1 (Dense)             (None, 32)                2080      \n",
      "                                                                 \n",
      " dense_2 (Dense)             (None, 1)                 33        \n",
      "                                                                 \n",
      "=================================================================\n",
      "Total params: 1,030,401\n",
      "Trainable params: 1,030,401\n",
      "Non-trainable params: 0\n",
      "_________________________________________________________________\n"
     ]
    }
   ],
   "source": [
    "model = keras.Sequential()\n",
    "model.add(layers.Dense(64, activation='relu', input_dim=X_train.shape[1]))\n",
    "model.add(layers.Dense(32, activation='relu'))\n",
    "model.add(layers.Dense(1, activation='sigmoid'))\n",
    "model.summary()"
   ]
  },
  {
   "cell_type": "code",
   "execution_count": 33,
   "metadata": {},
   "outputs": [
    {
     "name": "stdout",
     "output_type": "stream",
     "text": [
      "Epoch 1/10\n",
      "201/201 [==============================] - 9s 24ms/step - loss: 0.2748 - accuracy: 0.8957 - val_loss: 0.1714 - val_accuracy: 0.9457\n",
      "Epoch 2/10\n",
      "201/201 [==============================] - 5s 24ms/step - loss: 0.0068 - accuracy: 0.9978 - val_loss: 0.1906 - val_accuracy: 0.9351\n",
      "Epoch 3/10\n",
      "201/201 [==============================] - 5s 23ms/step - loss: 6.8446e-04 - accuracy: 1.0000 - val_loss: 0.1900 - val_accuracy: 0.9338\n",
      "Epoch 4/10\n",
      "201/201 [==============================] - 4s 22ms/step - loss: 3.4453e-04 - accuracy: 1.0000 - val_loss: 0.1901 - val_accuracy: 0.9338\n",
      "Epoch 5/10\n",
      "201/201 [==============================] - 5s 24ms/step - loss: 2.2788e-04 - accuracy: 1.0000 - val_loss: 0.1909 - val_accuracy: 0.9338\n",
      "Epoch 6/10\n",
      "201/201 [==============================] - 5s 27ms/step - loss: 1.6187e-04 - accuracy: 1.0000 - val_loss: 0.1919 - val_accuracy: 0.9332\n",
      "Epoch 7/10\n",
      "201/201 [==============================] - 5s 24ms/step - loss: 1.2036e-04 - accuracy: 1.0000 - val_loss: 0.1928 - val_accuracy: 0.9332\n",
      "Epoch 8/10\n",
      "201/201 [==============================] - 4s 21ms/step - loss: 9.2231e-05 - accuracy: 1.0000 - val_loss: 0.1938 - val_accuracy: 0.9332\n",
      "Epoch 9/10\n",
      "201/201 [==============================] - 4s 21ms/step - loss: 7.1886e-05 - accuracy: 1.0000 - val_loss: 0.1949 - val_accuracy: 0.9326\n",
      "Epoch 10/10\n",
      "201/201 [==============================] - 5s 23ms/step - loss: 5.6424e-05 - accuracy: 1.0000 - val_loss: 0.1959 - val_accuracy: 0.9326\n"
     ]
    },
    {
     "data": {
      "text/plain": [
       "<keras.callbacks.History at 0x186251ebf40>"
      ]
     },
     "execution_count": 33,
     "metadata": {},
     "output_type": "execute_result"
    }
   ],
   "source": [
    "# Compile the model\n",
    "model.compile(optimizer='adam', loss='binary_crossentropy', metrics=['accuracy'])\n",
    "\n",
    "# Train the model\n",
    "model.fit(X_train, y_train, epochs=10, batch_size=32, validation_split=0.2)"
   ]
  },
  {
   "cell_type": "code",
   "execution_count": 34,
   "metadata": {},
   "outputs": [
    {
     "name": "stdout",
     "output_type": "stream",
     "text": [
      "80/80 [==============================] - 0s 4ms/step - loss: 0.1412 - accuracy: 0.9605\n"
     ]
    },
    {
     "data": {
      "text/plain": [
       "[0.14120200276374817, 0.9604743123054504]"
      ]
     },
     "execution_count": 34,
     "metadata": {},
     "output_type": "execute_result"
    }
   ],
   "source": [
    "model.evaluate(X_test, y_test)"
   ]
  },
  {
   "cell_type": "code",
   "execution_count": 35,
   "metadata": {},
   "outputs": [
    {
     "name": "stdout",
     "output_type": "stream",
     "text": [
      "80/80 [==============================] - 0s 4ms/step\n"
     ]
    }
   ],
   "source": [
    "results= model.predict(X_test)\n",
    "results =  np.argmax(results,axis= 1)    "
   ]
  },
  {
   "attachments": {},
   "cell_type": "markdown",
   "metadata": {},
   "source": [
    "## Saving the deep learning model"
   ]
  },
  {
   "cell_type": "code",
   "execution_count": 36,
   "metadata": {},
   "outputs": [],
   "source": [
    "model.save(\"my_model.h5\")"
   ]
  }
 ],
 "metadata": {
  "kernelspec": {
   "display_name": "malware",
   "language": "python",
   "name": "python3"
  },
  "language_info": {
   "codemirror_mode": {
    "name": "ipython",
    "version": 3
   },
   "file_extension": ".py",
   "mimetype": "text/x-python",
   "name": "python",
   "nbconvert_exporter": "python",
   "pygments_lexer": "ipython3",
   "version": "3.10.3"
  },
  "orig_nbformat": 4
 },
 "nbformat": 4,
 "nbformat_minor": 2
}
