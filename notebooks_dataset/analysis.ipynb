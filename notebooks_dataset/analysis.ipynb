{
 "cells": [
  {
   "cell_type": "code",
   "execution_count": 1,
   "metadata": {},
   "outputs": [],
   "source": [
    "from geopy.geocoders import Nominatim\n",
    "import pandas as pd\n",
    "import folium\n",
    "from pymongo import MongoClient\n",
    "import seaborn as sns\n",
    "import matplotlib.pyplot as plt\n",
    "import plotly.graph_objects as go\n",
    "import plotly.express as px\n",
    "import colorsys"
   ]
  },
  {
   "cell_type": "code",
   "execution_count": 2,
   "metadata": {},
   "outputs": [],
   "source": [
    "client = MongoClient('localhost', 27017)\n",
    "db = client['Final_Year_Project']\n",
    "collection = db['user_data']\n",
    "\n",
    "# Retrieve data from the MongoDB collection\n",
    "data = pd.DataFrame(list(collection.find()))"
   ]
  },
  {
   "cell_type": "code",
   "execution_count": 3,
   "metadata": {},
   "outputs": [
    {
     "data": {
      "text/html": [
       "<div>\n",
       "<style scoped>\n",
       "    .dataframe tbody tr th:only-of-type {\n",
       "        vertical-align: middle;\n",
       "    }\n",
       "\n",
       "    .dataframe tbody tr th {\n",
       "        vertical-align: top;\n",
       "    }\n",
       "\n",
       "    .dataframe thead th {\n",
       "        text-align: right;\n",
       "    }\n",
       "</style>\n",
       "<table border=\"1\" class=\"dataframe\">\n",
       "  <thead>\n",
       "    <tr style=\"text-align: right;\">\n",
       "      <th></th>\n",
       "      <th>_id</th>\n",
       "      <th>User_Name</th>\n",
       "      <th>User_Age</th>\n",
       "      <th>Login_Country</th>\n",
       "      <th>Login_City</th>\n",
       "      <th>Email_Address</th>\n",
       "      <th>Occupation</th>\n",
       "      <th>Organization</th>\n",
       "      <th>Name_of_Portable_file</th>\n",
       "      <th>Time_of_Access</th>\n",
       "      <th>File_type</th>\n",
       "    </tr>\n",
       "  </thead>\n",
       "  <tbody>\n",
       "    <tr>\n",
       "      <th>0</th>\n",
       "      <td>64509346478a6f97c7b867f4</td>\n",
       "      <td>Abhiroop Sarkar</td>\n",
       "      <td>15</td>\n",
       "      <td>India</td>\n",
       "      <td>Mumbai</td>\n",
       "      <td>ads@gmail.com</td>\n",
       "      <td>student</td>\n",
       "      <td>GHRCE</td>\n",
       "      <td>oop11.exe</td>\n",
       "      <td>02 May 2023 10:06:22</td>\n",
       "      <td>malicious</td>\n",
       "    </tr>\n",
       "    <tr>\n",
       "      <th>1</th>\n",
       "      <td>6450942f478a6f97c7b867f5</td>\n",
       "      <td>Saurabh Barse</td>\n",
       "      <td>16</td>\n",
       "      <td>India</td>\n",
       "      <td>Aurangabad</td>\n",
       "      <td>sbs@gmail.com</td>\n",
       "      <td>student</td>\n",
       "      <td>GHRCE</td>\n",
       "      <td>Array.exe</td>\n",
       "      <td>02 May 2023 10:10:15</td>\n",
       "      <td>malicious</td>\n",
       "    </tr>\n",
       "    <tr>\n",
       "      <th>2</th>\n",
       "      <td>645094c0478a6f97c7b867f6</td>\n",
       "      <td>Adnan Quraishee</td>\n",
       "      <td>15</td>\n",
       "      <td>India</td>\n",
       "      <td>Nagpur</td>\n",
       "      <td>adq@gmail.com</td>\n",
       "      <td>student</td>\n",
       "      <td>ITC</td>\n",
       "      <td>class.exe</td>\n",
       "      <td>02 May 2023 10:12:40</td>\n",
       "      <td>malicious</td>\n",
       "    </tr>\n",
       "    <tr>\n",
       "      <th>3</th>\n",
       "      <td>6450ae3a478a6f97c7b867f7</td>\n",
       "      <td>Dylan O Brien</td>\n",
       "      <td>31</td>\n",
       "      <td>Australia</td>\n",
       "      <td>Bairnsdale</td>\n",
       "      <td>dob@gmail.com</td>\n",
       "      <td>employed</td>\n",
       "      <td>Deloitte</td>\n",
       "      <td>Practical3.exe</td>\n",
       "      <td>02 May 2023 12:01:22</td>\n",
       "      <td>malicious</td>\n",
       "    </tr>\n",
       "    <tr>\n",
       "      <th>4</th>\n",
       "      <td>6450e44b51fcea91b44095d2</td>\n",
       "      <td>Samuel Dhobiwala</td>\n",
       "      <td>46</td>\n",
       "      <td>Germany</td>\n",
       "      <td>Munich</td>\n",
       "      <td>sda@outlook.com</td>\n",
       "      <td>employed</td>\n",
       "      <td>CIA</td>\n",
       "      <td>SBS.exe</td>\n",
       "      <td>02 May 2023 15:52:03</td>\n",
       "      <td>malicious</td>\n",
       "    </tr>\n",
       "    <tr>\n",
       "      <th>5</th>\n",
       "      <td>64539f939960dc843f63bb54</td>\n",
       "      <td>Ram Kumar Badodiya</td>\n",
       "      <td>54</td>\n",
       "      <td>India</td>\n",
       "      <td>Patna</td>\n",
       "      <td>rkb@outlook.com</td>\n",
       "      <td>unemployed</td>\n",
       "      <td>TCS</td>\n",
       "      <td>func.exe</td>\n",
       "      <td>04 May 2023 17:35:39</td>\n",
       "      <td>benign</td>\n",
       "    </tr>\n",
       "    <tr>\n",
       "      <th>6</th>\n",
       "      <td>645411881505584e7085a074</td>\n",
       "      <td>Laura Dhawan</td>\n",
       "      <td>32</td>\n",
       "      <td>UK</td>\n",
       "      <td>London</td>\n",
       "      <td>ldn@outlook.com</td>\n",
       "      <td>employed</td>\n",
       "      <td>Target</td>\n",
       "      <td>SBS.exe</td>\n",
       "      <td>05 May 2023 01:41:52</td>\n",
       "      <td>benign</td>\n",
       "    </tr>\n",
       "    <tr>\n",
       "      <th>7</th>\n",
       "      <td>64548a7d02386f0c231c6139</td>\n",
       "      <td>Tom Pamecha</td>\n",
       "      <td>42</td>\n",
       "      <td>Russia</td>\n",
       "      <td>Novosibirsk</td>\n",
       "      <td>tpa@gmail.com</td>\n",
       "      <td>employed</td>\n",
       "      <td>H&amp;M</td>\n",
       "      <td>func.exe</td>\n",
       "      <td>05 May 2023 10:17:57</td>\n",
       "      <td>benign</td>\n",
       "    </tr>\n",
       "    <tr>\n",
       "      <th>8</th>\n",
       "      <td>645491db72f4d35d9bd4c962</td>\n",
       "      <td>Karen Shetty</td>\n",
       "      <td>34</td>\n",
       "      <td>USA</td>\n",
       "      <td>Texas</td>\n",
       "      <td>ksy@yahoo.com</td>\n",
       "      <td>student</td>\n",
       "      <td>TU</td>\n",
       "      <td>Array.exe</td>\n",
       "      <td>05 May 2023 10:49:23</td>\n",
       "      <td>benign</td>\n",
       "    </tr>\n",
       "    <tr>\n",
       "      <th>9</th>\n",
       "      <td>645493110a8b4a320520c554</td>\n",
       "      <td>Rahul Wan</td>\n",
       "      <td>14</td>\n",
       "      <td>USA</td>\n",
       "      <td>New York</td>\n",
       "      <td>rwn@gmail.com</td>\n",
       "      <td>student</td>\n",
       "      <td>NYU</td>\n",
       "      <td>Practical3.exe</td>\n",
       "      <td>05 May 2023 10:54:33</td>\n",
       "      <td>benign</td>\n",
       "    </tr>\n",
       "    <tr>\n",
       "      <th>10</th>\n",
       "      <td>6454a8844a15243ba4202c84</td>\n",
       "      <td>Ramesh Sterling</td>\n",
       "      <td>18</td>\n",
       "      <td>UK</td>\n",
       "      <td>Liverpool</td>\n",
       "      <td>rsg@gmail.com</td>\n",
       "      <td>employed</td>\n",
       "      <td>ITC</td>\n",
       "      <td>oop11.exe</td>\n",
       "      <td>05 May 2023 12:26:04</td>\n",
       "      <td>benign</td>\n",
       "    </tr>\n",
       "    <tr>\n",
       "      <th>11</th>\n",
       "      <td>6454aa044a15243ba4202c85</td>\n",
       "      <td>Rohini Sanders</td>\n",
       "      <td>23</td>\n",
       "      <td>USA</td>\n",
       "      <td>Nashville</td>\n",
       "      <td>rsa@gmail.com</td>\n",
       "      <td>unemployed</td>\n",
       "      <td>NYU</td>\n",
       "      <td>class.exe</td>\n",
       "      <td>05 May 2023 12:32:28</td>\n",
       "      <td>benign</td>\n",
       "    </tr>\n",
       "    <tr>\n",
       "      <th>12</th>\n",
       "      <td>6454abf84a15243ba4202c86</td>\n",
       "      <td>Avina Tandon</td>\n",
       "      <td>28</td>\n",
       "      <td>India</td>\n",
       "      <td>Delhi</td>\n",
       "      <td>atn@outlook.com</td>\n",
       "      <td>employed</td>\n",
       "      <td>TCS</td>\n",
       "      <td>SBS.exe</td>\n",
       "      <td>05 May 2023 12:40:48</td>\n",
       "      <td>benign</td>\n",
       "    </tr>\n",
       "    <tr>\n",
       "      <th>13</th>\n",
       "      <td>6454ac37e675c9719b207fc3</td>\n",
       "      <td>Avina Tandon</td>\n",
       "      <td>28</td>\n",
       "      <td>India</td>\n",
       "      <td>Delhi</td>\n",
       "      <td>atn@outlook.com</td>\n",
       "      <td>employed</td>\n",
       "      <td>TCS</td>\n",
       "      <td>SBS.exe</td>\n",
       "      <td>05 May 2023 12:41:51</td>\n",
       "      <td>benign</td>\n",
       "    </tr>\n",
       "    <tr>\n",
       "      <th>14</th>\n",
       "      <td>6454c7146ced42b622a49ac4</td>\n",
       "      <td>Wasim Chunawala</td>\n",
       "      <td>34</td>\n",
       "      <td>India</td>\n",
       "      <td>Kolkata</td>\n",
       "      <td>wca@outlook.com</td>\n",
       "      <td>employed</td>\n",
       "      <td>NSE</td>\n",
       "      <td>func.exe</td>\n",
       "      <td>05 May 2023 14:36:28</td>\n",
       "      <td>malicious</td>\n",
       "    </tr>\n",
       "    <tr>\n",
       "      <th>15</th>\n",
       "      <td>6454c96f6926380cd930a492</td>\n",
       "      <td>Karim Slyvester</td>\n",
       "      <td>56</td>\n",
       "      <td>USA</td>\n",
       "      <td>Texas</td>\n",
       "      <td>ksr@gmail.com</td>\n",
       "      <td>employed</td>\n",
       "      <td>Google</td>\n",
       "      <td>Array.exe</td>\n",
       "      <td>05 May 2023 14:46:31</td>\n",
       "      <td>malicious</td>\n",
       "    </tr>\n",
       "    <tr>\n",
       "      <th>16</th>\n",
       "      <td>6454ce428af490bbbc8fa980</td>\n",
       "      <td>Sawyam Rana</td>\n",
       "      <td>62</td>\n",
       "      <td>India</td>\n",
       "      <td>Patna</td>\n",
       "      <td>swr@gmail.com</td>\n",
       "      <td>unemployed</td>\n",
       "      <td>HDFC Bank</td>\n",
       "      <td>func.exe</td>\n",
       "      <td>05 May 2023 15:07:06</td>\n",
       "      <td>malicious</td>\n",
       "    </tr>\n",
       "    <tr>\n",
       "      <th>17</th>\n",
       "      <td>6454ceef49e482e2b9addb79</td>\n",
       "      <td>Barry Singh</td>\n",
       "      <td>43</td>\n",
       "      <td>UK</td>\n",
       "      <td>Bristol</td>\n",
       "      <td>bsh@yahoo.com</td>\n",
       "      <td>employed</td>\n",
       "      <td>DXC</td>\n",
       "      <td>SBS.exe</td>\n",
       "      <td>05 May 2023 15:09:59</td>\n",
       "      <td>malicious</td>\n",
       "    </tr>\n",
       "    <tr>\n",
       "      <th>18</th>\n",
       "      <td>6454d060769920cf10bbdc92</td>\n",
       "      <td>Darpan Mishra</td>\n",
       "      <td>35</td>\n",
       "      <td>India</td>\n",
       "      <td>Hyderabad</td>\n",
       "      <td>dma@gmail.com</td>\n",
       "      <td>employed</td>\n",
       "      <td>Deloitte</td>\n",
       "      <td>Practical3.exe</td>\n",
       "      <td>05 May 2023 15:16:08</td>\n",
       "      <td>malicious</td>\n",
       "    </tr>\n",
       "    <tr>\n",
       "      <th>19</th>\n",
       "      <td>6454e617a2b5a5f8d22a83cf</td>\n",
       "      <td>Daisy Kumar</td>\n",
       "      <td>21</td>\n",
       "      <td>Russia</td>\n",
       "      <td>Moscow</td>\n",
       "      <td>dkr@outlook.com</td>\n",
       "      <td>student</td>\n",
       "      <td>Oxford</td>\n",
       "      <td>class.exe</td>\n",
       "      <td>05 May 2023 16:48:47</td>\n",
       "      <td>malicious</td>\n",
       "    </tr>\n",
       "    <tr>\n",
       "      <th>20</th>\n",
       "      <td>6454fc094c8afc7cf0779ab9</td>\n",
       "      <td>Alonso Sinha</td>\n",
       "      <td>49</td>\n",
       "      <td>USA</td>\n",
       "      <td>Texas</td>\n",
       "      <td>asa@yahoo.com</td>\n",
       "      <td>employed</td>\n",
       "      <td>Deloitte</td>\n",
       "      <td>func.exe</td>\n",
       "      <td>05 May 2023 18:22:25</td>\n",
       "      <td>malicious</td>\n",
       "    </tr>\n",
       "    <tr>\n",
       "      <th>21</th>\n",
       "      <td>6454fe15357c5516ab4368a0</td>\n",
       "      <td>Sohail Jansen</td>\n",
       "      <td>21</td>\n",
       "      <td>India</td>\n",
       "      <td>Mumbai</td>\n",
       "      <td>sjn@outlook.com</td>\n",
       "      <td>student</td>\n",
       "      <td>GHRCE</td>\n",
       "      <td>Array.exe</td>\n",
       "      <td>05 May 2023 18:31:09</td>\n",
       "      <td>malicious</td>\n",
       "    </tr>\n",
       "    <tr>\n",
       "      <th>22</th>\n",
       "      <td>6454ff31bb9d8e2e781b1997</td>\n",
       "      <td>Emily Shekhar</td>\n",
       "      <td>32</td>\n",
       "      <td>USA</td>\n",
       "      <td>Denver</td>\n",
       "      <td>esr@outlook.com</td>\n",
       "      <td>employed</td>\n",
       "      <td>ITC</td>\n",
       "      <td>Practical3.exe</td>\n",
       "      <td>05 May 2023 18:35:53</td>\n",
       "      <td>malicious</td>\n",
       "    </tr>\n",
       "    <tr>\n",
       "      <th>23</th>\n",
       "      <td>64565bbd6e63dd6170123755</td>\n",
       "      <td>Warim Khan</td>\n",
       "      <td>45</td>\n",
       "      <td>Pakistan</td>\n",
       "      <td>Istanbul</td>\n",
       "      <td>wkn@outlook.com</td>\n",
       "      <td>unemployed</td>\n",
       "      <td>ITC</td>\n",
       "      <td>SBS.exe</td>\n",
       "      <td>06 May 2023 19:23:01</td>\n",
       "      <td>malicious</td>\n",
       "    </tr>\n",
       "    <tr>\n",
       "      <th>24</th>\n",
       "      <td>6456ac574e613696c1d12bed</td>\n",
       "      <td>Jeremy Dalwani</td>\n",
       "      <td>32</td>\n",
       "      <td>India</td>\n",
       "      <td>Mumbai</td>\n",
       "      <td>jdi@outlook.com</td>\n",
       "      <td>employed</td>\n",
       "      <td>TCS</td>\n",
       "      <td>class.exe</td>\n",
       "      <td>07 May 2023 01:06:55</td>\n",
       "      <td>malicious</td>\n",
       "    </tr>\n",
       "    <tr>\n",
       "      <th>25</th>\n",
       "      <td>645acf01d91e81037d48c46e</td>\n",
       "      <td>Sam Patra</td>\n",
       "      <td>23</td>\n",
       "      <td>USA</td>\n",
       "      <td>chicago</td>\n",
       "      <td>spa@yahoo.com</td>\n",
       "      <td>employed</td>\n",
       "      <td>ITC</td>\n",
       "      <td>Array.exe</td>\n",
       "      <td>10 May 2023 04:23:53</td>\n",
       "      <td>malicious</td>\n",
       "    </tr>\n",
       "    <tr>\n",
       "      <th>26</th>\n",
       "      <td>645b277e7e0118f090f78975</td>\n",
       "      <td>Rahul Maxwell</td>\n",
       "      <td>31</td>\n",
       "      <td>Australia</td>\n",
       "      <td>Sydney</td>\n",
       "      <td>rml@gmail.com</td>\n",
       "      <td>employed</td>\n",
       "      <td>Deloitte</td>\n",
       "      <td>func.exe</td>\n",
       "      <td>10 May 2023 10:41:26</td>\n",
       "      <td>malicious</td>\n",
       "    </tr>\n",
       "    <tr>\n",
       "      <th>27</th>\n",
       "      <td>645b27afbbf424863fda57fb</td>\n",
       "      <td>Rahul Maxwell</td>\n",
       "      <td>31</td>\n",
       "      <td>Australia</td>\n",
       "      <td>Sydney</td>\n",
       "      <td>rml@gmail.com</td>\n",
       "      <td>employed</td>\n",
       "      <td>Deloitte</td>\n",
       "      <td>func.exe</td>\n",
       "      <td>10 May 2023 10:42:15</td>\n",
       "      <td>malicious</td>\n",
       "    </tr>\n",
       "    <tr>\n",
       "      <th>28</th>\n",
       "      <td>645b2888c517fd594aadee69</td>\n",
       "      <td>Tanya Mishra</td>\n",
       "      <td>18</td>\n",
       "      <td>India</td>\n",
       "      <td>Nagpur</td>\n",
       "      <td>tmq@gmail.com</td>\n",
       "      <td>student</td>\n",
       "      <td>BHU</td>\n",
       "      <td>Array.exe</td>\n",
       "      <td>10 May 2023 10:45:52</td>\n",
       "      <td>malicious</td>\n",
       "    </tr>\n",
       "    <tr>\n",
       "      <th>29</th>\n",
       "      <td>645b3b886f443ac2948ea2fa</td>\n",
       "      <td>Ramesh Chitte</td>\n",
       "      <td>23</td>\n",
       "      <td>India</td>\n",
       "      <td>Mumbai</td>\n",
       "      <td>rcd@gmail.com</td>\n",
       "      <td>employed</td>\n",
       "      <td>Wipro</td>\n",
       "      <td>oop11.exe</td>\n",
       "      <td>10 May 2023 12:06:56</td>\n",
       "      <td>malicious</td>\n",
       "    </tr>\n",
       "  </tbody>\n",
       "</table>\n",
       "</div>"
      ],
      "text/plain": [
       "                         _id           User_Name  User_Age Login_Country   \n",
       "0   64509346478a6f97c7b867f4     Abhiroop Sarkar        15         India  \\\n",
       "1   6450942f478a6f97c7b867f5       Saurabh Barse        16         India   \n",
       "2   645094c0478a6f97c7b867f6     Adnan Quraishee        15         India   \n",
       "3   6450ae3a478a6f97c7b867f7       Dylan O Brien        31     Australia   \n",
       "4   6450e44b51fcea91b44095d2    Samuel Dhobiwala        46       Germany   \n",
       "5   64539f939960dc843f63bb54  Ram Kumar Badodiya        54         India   \n",
       "6   645411881505584e7085a074        Laura Dhawan        32            UK   \n",
       "7   64548a7d02386f0c231c6139         Tom Pamecha        42        Russia   \n",
       "8   645491db72f4d35d9bd4c962        Karen Shetty        34           USA   \n",
       "9   645493110a8b4a320520c554           Rahul Wan        14           USA   \n",
       "10  6454a8844a15243ba4202c84     Ramesh Sterling        18            UK   \n",
       "11  6454aa044a15243ba4202c85      Rohini Sanders        23           USA   \n",
       "12  6454abf84a15243ba4202c86        Avina Tandon        28         India   \n",
       "13  6454ac37e675c9719b207fc3        Avina Tandon        28         India   \n",
       "14  6454c7146ced42b622a49ac4     Wasim Chunawala        34         India   \n",
       "15  6454c96f6926380cd930a492     Karim Slyvester        56           USA   \n",
       "16  6454ce428af490bbbc8fa980         Sawyam Rana        62         India   \n",
       "17  6454ceef49e482e2b9addb79         Barry Singh        43            UK   \n",
       "18  6454d060769920cf10bbdc92       Darpan Mishra        35         India   \n",
       "19  6454e617a2b5a5f8d22a83cf         Daisy Kumar        21        Russia   \n",
       "20  6454fc094c8afc7cf0779ab9        Alonso Sinha        49           USA   \n",
       "21  6454fe15357c5516ab4368a0       Sohail Jansen        21         India   \n",
       "22  6454ff31bb9d8e2e781b1997       Emily Shekhar        32           USA   \n",
       "23  64565bbd6e63dd6170123755          Warim Khan        45      Pakistan   \n",
       "24  6456ac574e613696c1d12bed      Jeremy Dalwani        32         India   \n",
       "25  645acf01d91e81037d48c46e           Sam Patra        23           USA   \n",
       "26  645b277e7e0118f090f78975       Rahul Maxwell        31     Australia   \n",
       "27  645b27afbbf424863fda57fb       Rahul Maxwell        31     Australia   \n",
       "28  645b2888c517fd594aadee69        Tanya Mishra        18         India   \n",
       "29  645b3b886f443ac2948ea2fa       Ramesh Chitte        23         India   \n",
       "\n",
       "     Login_City    Email_Address  Occupation Organization   \n",
       "0        Mumbai    ads@gmail.com     student        GHRCE  \\\n",
       "1    Aurangabad    sbs@gmail.com     student        GHRCE   \n",
       "2        Nagpur    adq@gmail.com     student          ITC   \n",
       "3    Bairnsdale    dob@gmail.com    employed     Deloitte   \n",
       "4        Munich  sda@outlook.com    employed          CIA   \n",
       "5         Patna  rkb@outlook.com  unemployed          TCS   \n",
       "6        London  ldn@outlook.com    employed       Target   \n",
       "7   Novosibirsk    tpa@gmail.com    employed          H&M   \n",
       "8         Texas    ksy@yahoo.com     student           TU   \n",
       "9      New York    rwn@gmail.com     student          NYU   \n",
       "10    Liverpool    rsg@gmail.com    employed          ITC   \n",
       "11    Nashville    rsa@gmail.com  unemployed          NYU   \n",
       "12        Delhi  atn@outlook.com    employed          TCS   \n",
       "13        Delhi  atn@outlook.com    employed          TCS   \n",
       "14      Kolkata  wca@outlook.com    employed          NSE   \n",
       "15        Texas    ksr@gmail.com    employed       Google   \n",
       "16        Patna    swr@gmail.com  unemployed    HDFC Bank   \n",
       "17      Bristol    bsh@yahoo.com    employed          DXC   \n",
       "18    Hyderabad    dma@gmail.com    employed     Deloitte   \n",
       "19       Moscow  dkr@outlook.com     student       Oxford   \n",
       "20        Texas    asa@yahoo.com    employed     Deloitte   \n",
       "21       Mumbai  sjn@outlook.com     student        GHRCE   \n",
       "22       Denver  esr@outlook.com    employed          ITC   \n",
       "23     Istanbul  wkn@outlook.com  unemployed          ITC   \n",
       "24       Mumbai  jdi@outlook.com    employed          TCS   \n",
       "25      chicago    spa@yahoo.com    employed          ITC   \n",
       "26       Sydney    rml@gmail.com    employed     Deloitte   \n",
       "27       Sydney    rml@gmail.com    employed     Deloitte   \n",
       "28       Nagpur    tmq@gmail.com     student          BHU   \n",
       "29       Mumbai    rcd@gmail.com    employed        Wipro   \n",
       "\n",
       "   Name_of_Portable_file        Time_of_Access  File_type  \n",
       "0              oop11.exe  02 May 2023 10:06:22  malicious  \n",
       "1              Array.exe  02 May 2023 10:10:15  malicious  \n",
       "2              class.exe  02 May 2023 10:12:40  malicious  \n",
       "3         Practical3.exe  02 May 2023 12:01:22  malicious  \n",
       "4                SBS.exe  02 May 2023 15:52:03  malicious  \n",
       "5               func.exe  04 May 2023 17:35:39     benign  \n",
       "6                SBS.exe  05 May 2023 01:41:52     benign  \n",
       "7               func.exe  05 May 2023 10:17:57     benign  \n",
       "8              Array.exe  05 May 2023 10:49:23     benign  \n",
       "9         Practical3.exe  05 May 2023 10:54:33     benign  \n",
       "10             oop11.exe  05 May 2023 12:26:04     benign  \n",
       "11             class.exe  05 May 2023 12:32:28     benign  \n",
       "12               SBS.exe  05 May 2023 12:40:48     benign  \n",
       "13               SBS.exe  05 May 2023 12:41:51     benign  \n",
       "14              func.exe  05 May 2023 14:36:28  malicious  \n",
       "15             Array.exe  05 May 2023 14:46:31  malicious  \n",
       "16              func.exe  05 May 2023 15:07:06  malicious  \n",
       "17               SBS.exe  05 May 2023 15:09:59  malicious  \n",
       "18        Practical3.exe  05 May 2023 15:16:08  malicious  \n",
       "19             class.exe  05 May 2023 16:48:47  malicious  \n",
       "20              func.exe  05 May 2023 18:22:25  malicious  \n",
       "21             Array.exe  05 May 2023 18:31:09  malicious  \n",
       "22        Practical3.exe  05 May 2023 18:35:53  malicious  \n",
       "23               SBS.exe  06 May 2023 19:23:01  malicious  \n",
       "24             class.exe  07 May 2023 01:06:55  malicious  \n",
       "25             Array.exe  10 May 2023 04:23:53  malicious  \n",
       "26              func.exe  10 May 2023 10:41:26  malicious  \n",
       "27              func.exe  10 May 2023 10:42:15  malicious  \n",
       "28             Array.exe  10 May 2023 10:45:52  malicious  \n",
       "29             oop11.exe  10 May 2023 12:06:56  malicious  "
      ]
     },
     "execution_count": 3,
     "metadata": {},
     "output_type": "execute_result"
    }
   ],
   "source": [
    "data"
   ]
  },
  {
   "cell_type": "code",
   "execution_count": 4,
   "metadata": {},
   "outputs": [],
   "source": [
    "viz_data = pd.DataFrame()"
   ]
  },
  {
   "cell_type": "code",
   "execution_count": 5,
   "metadata": {},
   "outputs": [],
   "source": [
    "def get_lat_long(city, country):\n",
    "    geolocator = Nominatim(user_agent=\"my_app\")\n",
    "    location = geolocator.geocode(f\"{city}, {country}\")\n",
    "    if location:\n",
    "        return (location.latitude, location.longitude)\n",
    "    else:\n",
    "        return (None,None)"
   ]
  },
  {
   "cell_type": "code",
   "execution_count": 6,
   "metadata": {},
   "outputs": [],
   "source": [
    "data[\"user_latitude\"] = data.apply(lambda data: get_lat_long(data[\"Login_City\"], data[\"Login_Country\"])[0], axis=1)\n",
    "data[\"user_longitude\"] = data.apply(lambda data: get_lat_long(data[\"Login_City\"], data[\"Login_Country\"])[1], axis=1)"
   ]
  },
  {
   "cell_type": "code",
   "execution_count": 7,
   "metadata": {},
   "outputs": [],
   "source": [
    "viz_data = data"
   ]
  },
  {
   "cell_type": "code",
   "execution_count": 8,
   "metadata": {},
   "outputs": [],
   "source": [
    "viz_data[\"hour\"] = pd.to_datetime(data[\"Time_of_Access\"]).dt.hour"
   ]
  },
  {
   "cell_type": "code",
   "execution_count": 10,
   "metadata": {},
   "outputs": [],
   "source": [
    "viz_data.to_csv(\"Viz_data.csv\")"
   ]
  },
  {
   "cell_type": "code",
   "execution_count": 9,
   "metadata": {},
   "outputs": [],
   "source": [
    "def create_grouped_data(data, group_cols):\n",
    "    # Define the fixed column for file_type\n",
    "    file_type_col = 'File_type'\n",
    "\n",
    "    # Group the data by the specified group columns and file_type\n",
    "    grouped_data = data.groupby(group_cols + [file_type_col]).size().reset_index(name='count')\n",
    "    \n",
    "    grouped_data = grouped_data[grouped_data['count'] != 0]\n",
    "    # Return the grouped data\n",
    "    return grouped_data,group_cols"
   ]
  },
  {
   "cell_type": "code",
   "execution_count": 11,
   "metadata": {},
   "outputs": [],
   "source": [
    "grouped_data,inputted_cols = create_grouped_data(data, ['Age_Groups','Login_Country'])"
   ]
  },
  {
   "cell_type": "code",
   "execution_count": 10,
   "metadata": {},
   "outputs": [
    {
     "ename": "NameError",
     "evalue": "name 'grouped_data' is not defined",
     "output_type": "error",
     "traceback": [
      "\u001b[1;31m---------------------------------------------------------------------------\u001b[0m",
      "\u001b[1;31mNameError\u001b[0m                                 Traceback (most recent call last)",
      "Cell \u001b[1;32mIn[10], line 1\u001b[0m\n\u001b[1;32m----> 1\u001b[0m grouped_data\n",
      "\u001b[1;31mNameError\u001b[0m: name 'grouped_data' is not defined"
     ]
    }
   ],
   "source": [
    "grouped_data"
   ]
  },
  {
   "cell_type": "code",
   "execution_count": 96,
   "metadata": {},
   "outputs": [
    {
     "data": {
      "text/plain": [
       "Index(['_id', 'User_Name', 'User_Age', 'Login_Country', 'Login_City',\n",
       "       'Email_Address', 'Occupation', 'Organization', 'Name_of_Portable_file',\n",
       "       'Time_of_Access', 'File_type', 'user_latitude', 'user_longitude',\n",
       "       'hour', 'Age_Groups'],\n",
       "      dtype='object')"
      ]
     },
     "execution_count": 96,
     "metadata": {},
     "output_type": "execute_result"
    }
   ],
   "source": [
    "data.columns"
   ]
  },
  {
   "cell_type": "code",
   "execution_count": 13,
   "metadata": {},
   "outputs": [
    {
     "data": {
      "application/vnd.plotly.v1+json": {
       "config": {
        "plotlyServerURL": "https://plot.ly"
       },
       "data": [
        {
         "hovertemplate": "<b>%{hovertext}</b><br><br>File_type=malicious<br>user_longitude=%{x}<br>user_latitude=%{y}<br>User_Age=%{marker.size}<extra></extra>",
         "hovertext": [
          "Abhiroop Sarkar",
          "Saurabh Barse",
          "Adnan Quraishee",
          "Dylan O Brien",
          "Samuel Dhobiwala",
          "Wasim Chunawala",
          "Karim Slyvester",
          "Sawyam Rana",
          "Barry Singh",
          "Darpan Mishra",
          "Daisy Kumar",
          "Alonso Sinha",
          "Sohail Jansen",
          "Emily Shekhar",
          "Warim Khan",
          "Jeremy Dalwani"
         ],
         "legendgroup": "malicious",
         "marker": {
          "color": "#636efa",
          "size": [
           15,
           16,
           15,
           31,
           46,
           34,
           56,
           62,
           43,
           35,
           21,
           49,
           21,
           32,
           45,
           32
          ],
          "sizemode": "area",
          "sizeref": 0.155,
          "symbol": "circle"
         },
         "mode": "markers",
         "name": "malicious",
         "orientation": "v",
         "showlegend": true,
         "type": "scatter",
         "x": [
          72.878176,
          84.41448983395554,
          79.0820556,
          147.6304752,
          11.5753822,
          88.3638953,
          -98.5456116,
          85.1235252,
          -2.5972985,
          78.4740613,
          37.6174943,
          -98.5456116,
          72.878176,
          -104.984862,
          null,
          72.878176
         ],
         "xaxis": "x",
         "y": [
          19.0785451,
          24.786306,
          21.1498134,
          -37.8254509,
          48.1371079,
          22.5726459,
          31.2638905,
          25.6093239,
          51.4538022,
          17.360589,
          55.7504461,
          31.2638905,
          19.0785451,
          39.7392364,
          null,
          19.0785451
         ],
         "yaxis": "y"
        },
        {
         "hovertemplate": "<b>%{hovertext}</b><br><br>File_type=benign<br>user_longitude=%{x}<br>user_latitude=%{y}<br>User_Age=%{marker.size}<extra></extra>",
         "hovertext": [
          "Ram Kumar Badodiya",
          "Laura Dhawan",
          "Tom Pamecha",
          "Karen Shetty",
          "Rahul Wan",
          "Ramesh Sterling",
          "Rohini Sanders",
          "Avina Tandon",
          "Avina Tandon"
         ],
         "legendgroup": "benign",
         "marker": {
          "color": "#EF553B",
          "size": [
           54,
           32,
           42,
           34,
           14,
           18,
           23,
           28,
           28
          ],
          "sizemode": "area",
          "sizeref": 0.155,
          "symbol": "circle"
         },
         "mode": "markers",
         "name": "benign",
         "orientation": "v",
         "showlegend": true,
         "type": "scatter",
         "x": [
          85.1235252,
          -0.12765,
          82.9226887,
          -98.5456116,
          -74.0060152,
          -2.99168,
          -86.7742984,
          77.2219388,
          77.2219388
         ],
         "xaxis": "x",
         "y": [
          25.6093239,
          51.5073359,
          55.0288307,
          31.2638905,
          40.7127281,
          53.4071991,
          36.1622767,
          28.6517178,
          28.6517178
         ],
         "yaxis": "y"
        }
       ],
       "layout": {
        "legend": {
         "itemsizing": "constant",
         "title": {
          "text": "File Type"
         },
         "tracegroupgap": 0
        },
        "margin": {
         "t": 60
        },
        "template": {
         "data": {
          "bar": [
           {
            "error_x": {
             "color": "#2a3f5f"
            },
            "error_y": {
             "color": "#2a3f5f"
            },
            "marker": {
             "line": {
              "color": "#E5ECF6",
              "width": 0.5
             },
             "pattern": {
              "fillmode": "overlay",
              "size": 10,
              "solidity": 0.2
             }
            },
            "type": "bar"
           }
          ],
          "barpolar": [
           {
            "marker": {
             "line": {
              "color": "#E5ECF6",
              "width": 0.5
             },
             "pattern": {
              "fillmode": "overlay",
              "size": 10,
              "solidity": 0.2
             }
            },
            "type": "barpolar"
           }
          ],
          "carpet": [
           {
            "aaxis": {
             "endlinecolor": "#2a3f5f",
             "gridcolor": "white",
             "linecolor": "white",
             "minorgridcolor": "white",
             "startlinecolor": "#2a3f5f"
            },
            "baxis": {
             "endlinecolor": "#2a3f5f",
             "gridcolor": "white",
             "linecolor": "white",
             "minorgridcolor": "white",
             "startlinecolor": "#2a3f5f"
            },
            "type": "carpet"
           }
          ],
          "choropleth": [
           {
            "colorbar": {
             "outlinewidth": 0,
             "ticks": ""
            },
            "type": "choropleth"
           }
          ],
          "contour": [
           {
            "colorbar": {
             "outlinewidth": 0,
             "ticks": ""
            },
            "colorscale": [
             [
              0,
              "#0d0887"
             ],
             [
              0.1111111111111111,
              "#46039f"
             ],
             [
              0.2222222222222222,
              "#7201a8"
             ],
             [
              0.3333333333333333,
              "#9c179e"
             ],
             [
              0.4444444444444444,
              "#bd3786"
             ],
             [
              0.5555555555555556,
              "#d8576b"
             ],
             [
              0.6666666666666666,
              "#ed7953"
             ],
             [
              0.7777777777777778,
              "#fb9f3a"
             ],
             [
              0.8888888888888888,
              "#fdca26"
             ],
             [
              1,
              "#f0f921"
             ]
            ],
            "type": "contour"
           }
          ],
          "contourcarpet": [
           {
            "colorbar": {
             "outlinewidth": 0,
             "ticks": ""
            },
            "type": "contourcarpet"
           }
          ],
          "heatmap": [
           {
            "colorbar": {
             "outlinewidth": 0,
             "ticks": ""
            },
            "colorscale": [
             [
              0,
              "#0d0887"
             ],
             [
              0.1111111111111111,
              "#46039f"
             ],
             [
              0.2222222222222222,
              "#7201a8"
             ],
             [
              0.3333333333333333,
              "#9c179e"
             ],
             [
              0.4444444444444444,
              "#bd3786"
             ],
             [
              0.5555555555555556,
              "#d8576b"
             ],
             [
              0.6666666666666666,
              "#ed7953"
             ],
             [
              0.7777777777777778,
              "#fb9f3a"
             ],
             [
              0.8888888888888888,
              "#fdca26"
             ],
             [
              1,
              "#f0f921"
             ]
            ],
            "type": "heatmap"
           }
          ],
          "heatmapgl": [
           {
            "colorbar": {
             "outlinewidth": 0,
             "ticks": ""
            },
            "colorscale": [
             [
              0,
              "#0d0887"
             ],
             [
              0.1111111111111111,
              "#46039f"
             ],
             [
              0.2222222222222222,
              "#7201a8"
             ],
             [
              0.3333333333333333,
              "#9c179e"
             ],
             [
              0.4444444444444444,
              "#bd3786"
             ],
             [
              0.5555555555555556,
              "#d8576b"
             ],
             [
              0.6666666666666666,
              "#ed7953"
             ],
             [
              0.7777777777777778,
              "#fb9f3a"
             ],
             [
              0.8888888888888888,
              "#fdca26"
             ],
             [
              1,
              "#f0f921"
             ]
            ],
            "type": "heatmapgl"
           }
          ],
          "histogram": [
           {
            "marker": {
             "pattern": {
              "fillmode": "overlay",
              "size": 10,
              "solidity": 0.2
             }
            },
            "type": "histogram"
           }
          ],
          "histogram2d": [
           {
            "colorbar": {
             "outlinewidth": 0,
             "ticks": ""
            },
            "colorscale": [
             [
              0,
              "#0d0887"
             ],
             [
              0.1111111111111111,
              "#46039f"
             ],
             [
              0.2222222222222222,
              "#7201a8"
             ],
             [
              0.3333333333333333,
              "#9c179e"
             ],
             [
              0.4444444444444444,
              "#bd3786"
             ],
             [
              0.5555555555555556,
              "#d8576b"
             ],
             [
              0.6666666666666666,
              "#ed7953"
             ],
             [
              0.7777777777777778,
              "#fb9f3a"
             ],
             [
              0.8888888888888888,
              "#fdca26"
             ],
             [
              1,
              "#f0f921"
             ]
            ],
            "type": "histogram2d"
           }
          ],
          "histogram2dcontour": [
           {
            "colorbar": {
             "outlinewidth": 0,
             "ticks": ""
            },
            "colorscale": [
             [
              0,
              "#0d0887"
             ],
             [
              0.1111111111111111,
              "#46039f"
             ],
             [
              0.2222222222222222,
              "#7201a8"
             ],
             [
              0.3333333333333333,
              "#9c179e"
             ],
             [
              0.4444444444444444,
              "#bd3786"
             ],
             [
              0.5555555555555556,
              "#d8576b"
             ],
             [
              0.6666666666666666,
              "#ed7953"
             ],
             [
              0.7777777777777778,
              "#fb9f3a"
             ],
             [
              0.8888888888888888,
              "#fdca26"
             ],
             [
              1,
              "#f0f921"
             ]
            ],
            "type": "histogram2dcontour"
           }
          ],
          "mesh3d": [
           {
            "colorbar": {
             "outlinewidth": 0,
             "ticks": ""
            },
            "type": "mesh3d"
           }
          ],
          "parcoords": [
           {
            "line": {
             "colorbar": {
              "outlinewidth": 0,
              "ticks": ""
             }
            },
            "type": "parcoords"
           }
          ],
          "pie": [
           {
            "automargin": true,
            "type": "pie"
           }
          ],
          "scatter": [
           {
            "fillpattern": {
             "fillmode": "overlay",
             "size": 10,
             "solidity": 0.2
            },
            "type": "scatter"
           }
          ],
          "scatter3d": [
           {
            "line": {
             "colorbar": {
              "outlinewidth": 0,
              "ticks": ""
             }
            },
            "marker": {
             "colorbar": {
              "outlinewidth": 0,
              "ticks": ""
             }
            },
            "type": "scatter3d"
           }
          ],
          "scattercarpet": [
           {
            "marker": {
             "colorbar": {
              "outlinewidth": 0,
              "ticks": ""
             }
            },
            "type": "scattercarpet"
           }
          ],
          "scattergeo": [
           {
            "marker": {
             "colorbar": {
              "outlinewidth": 0,
              "ticks": ""
             }
            },
            "type": "scattergeo"
           }
          ],
          "scattergl": [
           {
            "marker": {
             "colorbar": {
              "outlinewidth": 0,
              "ticks": ""
             }
            },
            "type": "scattergl"
           }
          ],
          "scattermapbox": [
           {
            "marker": {
             "colorbar": {
              "outlinewidth": 0,
              "ticks": ""
             }
            },
            "type": "scattermapbox"
           }
          ],
          "scatterpolar": [
           {
            "marker": {
             "colorbar": {
              "outlinewidth": 0,
              "ticks": ""
             }
            },
            "type": "scatterpolar"
           }
          ],
          "scatterpolargl": [
           {
            "marker": {
             "colorbar": {
              "outlinewidth": 0,
              "ticks": ""
             }
            },
            "type": "scatterpolargl"
           }
          ],
          "scatterternary": [
           {
            "marker": {
             "colorbar": {
              "outlinewidth": 0,
              "ticks": ""
             }
            },
            "type": "scatterternary"
           }
          ],
          "surface": [
           {
            "colorbar": {
             "outlinewidth": 0,
             "ticks": ""
            },
            "colorscale": [
             [
              0,
              "#0d0887"
             ],
             [
              0.1111111111111111,
              "#46039f"
             ],
             [
              0.2222222222222222,
              "#7201a8"
             ],
             [
              0.3333333333333333,
              "#9c179e"
             ],
             [
              0.4444444444444444,
              "#bd3786"
             ],
             [
              0.5555555555555556,
              "#d8576b"
             ],
             [
              0.6666666666666666,
              "#ed7953"
             ],
             [
              0.7777777777777778,
              "#fb9f3a"
             ],
             [
              0.8888888888888888,
              "#fdca26"
             ],
             [
              1,
              "#f0f921"
             ]
            ],
            "type": "surface"
           }
          ],
          "table": [
           {
            "cells": {
             "fill": {
              "color": "#EBF0F8"
             },
             "line": {
              "color": "white"
             }
            },
            "header": {
             "fill": {
              "color": "#C8D4E3"
             },
             "line": {
              "color": "white"
             }
            },
            "type": "table"
           }
          ]
         },
         "layout": {
          "annotationdefaults": {
           "arrowcolor": "#2a3f5f",
           "arrowhead": 0,
           "arrowwidth": 1
          },
          "autotypenumbers": "strict",
          "coloraxis": {
           "colorbar": {
            "outlinewidth": 0,
            "ticks": ""
           }
          },
          "colorscale": {
           "diverging": [
            [
             0,
             "#8e0152"
            ],
            [
             0.1,
             "#c51b7d"
            ],
            [
             0.2,
             "#de77ae"
            ],
            [
             0.3,
             "#f1b6da"
            ],
            [
             0.4,
             "#fde0ef"
            ],
            [
             0.5,
             "#f7f7f7"
            ],
            [
             0.6,
             "#e6f5d0"
            ],
            [
             0.7,
             "#b8e186"
            ],
            [
             0.8,
             "#7fbc41"
            ],
            [
             0.9,
             "#4d9221"
            ],
            [
             1,
             "#276419"
            ]
           ],
           "sequential": [
            [
             0,
             "#0d0887"
            ],
            [
             0.1111111111111111,
             "#46039f"
            ],
            [
             0.2222222222222222,
             "#7201a8"
            ],
            [
             0.3333333333333333,
             "#9c179e"
            ],
            [
             0.4444444444444444,
             "#bd3786"
            ],
            [
             0.5555555555555556,
             "#d8576b"
            ],
            [
             0.6666666666666666,
             "#ed7953"
            ],
            [
             0.7777777777777778,
             "#fb9f3a"
            ],
            [
             0.8888888888888888,
             "#fdca26"
            ],
            [
             1,
             "#f0f921"
            ]
           ],
           "sequentialminus": [
            [
             0,
             "#0d0887"
            ],
            [
             0.1111111111111111,
             "#46039f"
            ],
            [
             0.2222222222222222,
             "#7201a8"
            ],
            [
             0.3333333333333333,
             "#9c179e"
            ],
            [
             0.4444444444444444,
             "#bd3786"
            ],
            [
             0.5555555555555556,
             "#d8576b"
            ],
            [
             0.6666666666666666,
             "#ed7953"
            ],
            [
             0.7777777777777778,
             "#fb9f3a"
            ],
            [
             0.8888888888888888,
             "#fdca26"
            ],
            [
             1,
             "#f0f921"
            ]
           ]
          },
          "colorway": [
           "#636efa",
           "#EF553B",
           "#00cc96",
           "#ab63fa",
           "#FFA15A",
           "#19d3f3",
           "#FF6692",
           "#B6E880",
           "#FF97FF",
           "#FECB52"
          ],
          "font": {
           "color": "#2a3f5f"
          },
          "geo": {
           "bgcolor": "white",
           "lakecolor": "white",
           "landcolor": "#E5ECF6",
           "showlakes": true,
           "showland": true,
           "subunitcolor": "white"
          },
          "hoverlabel": {
           "align": "left"
          },
          "hovermode": "closest",
          "mapbox": {
           "style": "light"
          },
          "paper_bgcolor": "white",
          "plot_bgcolor": "#E5ECF6",
          "polar": {
           "angularaxis": {
            "gridcolor": "white",
            "linecolor": "white",
            "ticks": ""
           },
           "bgcolor": "#E5ECF6",
           "radialaxis": {
            "gridcolor": "white",
            "linecolor": "white",
            "ticks": ""
           }
          },
          "scene": {
           "xaxis": {
            "backgroundcolor": "#E5ECF6",
            "gridcolor": "white",
            "gridwidth": 2,
            "linecolor": "white",
            "showbackground": true,
            "ticks": "",
            "zerolinecolor": "white"
           },
           "yaxis": {
            "backgroundcolor": "#E5ECF6",
            "gridcolor": "white",
            "gridwidth": 2,
            "linecolor": "white",
            "showbackground": true,
            "ticks": "",
            "zerolinecolor": "white"
           },
           "zaxis": {
            "backgroundcolor": "#E5ECF6",
            "gridcolor": "white",
            "gridwidth": 2,
            "linecolor": "white",
            "showbackground": true,
            "ticks": "",
            "zerolinecolor": "white"
           }
          },
          "shapedefaults": {
           "line": {
            "color": "#2a3f5f"
           }
          },
          "ternary": {
           "aaxis": {
            "gridcolor": "white",
            "linecolor": "white",
            "ticks": ""
           },
           "baxis": {
            "gridcolor": "white",
            "linecolor": "white",
            "ticks": ""
           },
           "bgcolor": "#E5ECF6",
           "caxis": {
            "gridcolor": "white",
            "linecolor": "white",
            "ticks": ""
           }
          },
          "title": {
           "x": 0.05
          },
          "xaxis": {
           "automargin": true,
           "gridcolor": "white",
           "linecolor": "white",
           "ticks": "",
           "title": {
            "standoff": 15
           },
           "zerolinecolor": "white",
           "zerolinewidth": 2
          },
          "yaxis": {
           "automargin": true,
           "gridcolor": "white",
           "linecolor": "white",
           "ticks": "",
           "title": {
            "standoff": 15
           },
           "zerolinecolor": "white",
           "zerolinewidth": 2
          }
         }
        },
        "xaxis": {
         "anchor": "y",
         "domain": [
          0,
          1
         ],
         "title": {
          "text": "user_longitude"
         }
        },
        "yaxis": {
         "anchor": "x",
         "domain": [
          0,
          1
         ],
         "title": {
          "text": "user_latitude"
         }
        }
       }
      }
     },
     "metadata": {},
     "output_type": "display_data"
    }
   ],
   "source": [
    "fig = px.scatter(data, x='user_longitude', y='user_latitude', size='User_Age', color='File_type', hover_name='User_Name')\n",
    "\n",
    "# Add a legend title\n",
    "fig.update_layout(legend_title_text='File Type')\n",
    "\n",
    "# Show the plot\n",
    "fig.show()"
   ]
  },
  {
   "cell_type": "code",
   "execution_count": 20,
   "metadata": {},
   "outputs": [],
   "source": [
    "import numpy as np"
   ]
  },
  {
   "cell_type": "code",
   "execution_count": 23,
   "metadata": {},
   "outputs": [],
   "source": [
    "z = data['hour']\n",
    "colors = np.random.rand(24) \n"
   ]
  },
  {
   "cell_type": "code",
   "execution_count": 24,
   "metadata": {},
   "outputs": [
    {
     "data": {
      "text/plain": [
       "<matplotlib.collections.PathCollection at 0x23d03af6ec0>"
      ]
     },
     "execution_count": 24,
     "metadata": {},
     "output_type": "execute_result"
    },
    {
     "data": {
      "image/png": "[encoded data removed]",
      "text/plain": [
       "<Figure size 640x480 with 1 Axes>"
      ]
     },
     "metadata": {},
     "output_type": "display_data"
    }
   ],
   "source": [
    "plt.scatter(x = data['Age_Groups'],y = data['Login_Country'],s=z*20,c = colors)\n"
   ]
  },
  {
   "cell_type": "code",
   "execution_count": 14,
   "metadata": {},
   "outputs": [],
   "source": [
    "def plot(data,columns):\n",
    "    # colors = ['#8B0000', 'Blue', 'Green', '#4B0082','#6B0060']\n",
    "    # colors = ['#1f77b4', '#b45500', '#2ca02c', '#910f0f', '#9467bd', '#4b2b1f', '#e377c2', '#4d4d4d', '#bcbd22', '#17becf']\n",
    "    colors = ['#17414f', '#ff7f0e', '#234d20', '#d62728', '#4e2d53', '#8c564b', '#9d4f76', '#7f7f7f', '#7f8500', '#11727f']\n",
    "\n",
    "    fig = go.Figure(go.Bar(\n",
    "        x=data['File_type'],\n",
    "        y=data['count'],\n",
    "        text=data[columns].apply(lambda row: '<br>'.join(f\"{col}: {val}\" for col, val in row.items()), axis=1),\n",
    "        hovertemplate='%{text}<br>File type: %{x}<br>Count: %{y}<extra></extra>',\n",
    "        marker=dict(\n",
    "            color=[colors[i % len(colors)] for i in range(len(data))], # Set the colors for each bar\n",
    "            line=dict(color='gray', width=1), # Set the outline color and width for each bar\n",
    "        )\n",
    "    ))\n",
    "\n",
    "    # Set the chart title and axis labels\n",
    "    fig.update_layout(title='File Types Count', xaxis_title='File Types', yaxis_title='Count')\n",
    "\n",
    "    # Show the chart\n",
    "    fig.show()\n"
   ]
  },
  {
   "cell_type": "code",
   "execution_count": 15,
   "metadata": {},
   "outputs": [
    {
     "data": {
      "application/vnd.plotly.v1+json": {
       "config": {
        "plotlyServerURL": "https://plot.ly"
       },
       "data": [
        {
         "hovertemplate": "%{text}<br>File type: %{x}<br>Count: %{y}<extra></extra>",
         "marker": {
          "color": [
           "#17414f",
           "#ff7f0e",
           "#234d20",
           "#d62728",
           "#4e2d53",
           "#8c564b",
           "#9d4f76",
           "#7f7f7f",
           "#7f8500",
           "#11727f",
           "#17414f",
           "#ff7f0e",
           "#234d20",
           "#d62728",
           "#4e2d53",
           "#8c564b",
           "#9d4f76",
           "#7f7f7f",
           "#7f8500"
          ],
          "line": {
           "color": "gray",
           "width": 1
          }
         },
         "text": [
          "Age_Groups: 11-18<br>Login_Country: India",
          "Age_Groups: 11-18<br>Login_Country: UK",
          "Age_Groups: 11-18<br>Login_Country: USA",
          "Age_Groups: 19-25<br>Login_Country: India",
          "Age_Groups: 19-25<br>Login_Country: Russia",
          "Age_Groups: 19-25<br>Login_Country: USA",
          "Age_Groups: 26-40<br>Login_Country: Australia",
          "Age_Groups: 26-40<br>Login_Country: India",
          "Age_Groups: 26-40<br>Login_Country: India",
          "Age_Groups: 26-40<br>Login_Country: UK",
          "Age_Groups: 26-40<br>Login_Country: USA",
          "Age_Groups: 26-40<br>Login_Country: USA",
          "Age_Groups: 41-55<br>Login_Country: Germany",
          "Age_Groups: 41-55<br>Login_Country: India",
          "Age_Groups: 41-55<br>Login_Country: Pakistan",
          "Age_Groups: 41-55<br>Login_Country: Russia",
          "Age_Groups: 41-55<br>Login_Country: UK",
          "Age_Groups: 41-55<br>Login_Country: USA",
          "Age_Groups: 56-75<br>Login_Country: India"
         ],
         "type": "bar",
         "x": [
          "malicious",
          "benign",
          "benign",
          "malicious",
          "malicious",
          "benign",
          "malicious",
          "benign",
          "malicious",
          "benign",
          "benign",
          "malicious",
          "malicious",
          "benign",
          "malicious",
          "benign",
          "malicious",
          "malicious",
          "malicious"
         ],
         "y": [
          3,
          1,
          1,
          1,
          1,
          1,
          1,
          2,
          3,
          1,
          1,
          1,
          1,
          1,
          1,
          1,
          1,
          2,
          1
         ]
        }
       ],
       "layout": {
        "template": {
         "data": {
          "bar": [
           {
            "error_x": {
             "color": "#2a3f5f"
            },
            "error_y": {
             "color": "#2a3f5f"
            },
            "marker": {
             "line": {
              "color": "#E5ECF6",
              "width": 0.5
             },
             "pattern": {
              "fillmode": "overlay",
              "size": 10,
              "solidity": 0.2
             }
            },
            "type": "bar"
           }
          ],
          "barpolar": [
           {
            "marker": {
             "line": {
              "color": "#E5ECF6",
              "width": 0.5
             },
             "pattern": {
              "fillmode": "overlay",
              "size": 10,
              "solidity": 0.2
             }
            },
            "type": "barpolar"
           }
          ],
          "carpet": [
           {
            "aaxis": {
             "endlinecolor": "#2a3f5f",
             "gridcolor": "white",
             "linecolor": "white",
             "minorgridcolor": "white",
             "startlinecolor": "#2a3f5f"
            },
            "baxis": {
             "endlinecolor": "#2a3f5f",
             "gridcolor": "white",
             "linecolor": "white",
             "minorgridcolor": "white",
             "startlinecolor": "#2a3f5f"
            },
            "type": "carpet"
           }
          ],
          "choropleth": [
           {
            "colorbar": {
             "outlinewidth": 0,
             "ticks": ""
            },
            "type": "choropleth"
           }
          ],
          "contour": [
           {
            "colorbar": {
             "outlinewidth": 0,
             "ticks": ""
            },
            "colorscale": [
             [
              0,
              "#0d0887"
             ],
             [
              0.1111111111111111,
              "#46039f"
             ],
             [
              0.2222222222222222,
              "#7201a8"
             ],
             [
              0.3333333333333333,
              "#9c179e"
             ],
             [
              0.4444444444444444,
              "#bd3786"
             ],
             [
              0.5555555555555556,
              "#d8576b"
             ],
             [
              0.6666666666666666,
              "#ed7953"
             ],
             [
              0.7777777777777778,
              "#fb9f3a"
             ],
             [
              0.8888888888888888,
              "#fdca26"
             ],
             [
              1,
              "#f0f921"
             ]
            ],
            "type": "contour"
           }
          ],
          "contourcarpet": [
           {
            "colorbar": {
             "outlinewidth": 0,
             "ticks": ""
            },
            "type": "contourcarpet"
           }
          ],
          "heatmap": [
           {
            "colorbar": {
             "outlinewidth": 0,
             "ticks": ""
            },
            "colorscale": [
             [
              0,
              "#0d0887"
             ],
             [
              0.1111111111111111,
              "#46039f"
             ],
             [
              0.2222222222222222,
              "#7201a8"
             ],
             [
              0.3333333333333333,
              "#9c179e"
             ],
             [
              0.4444444444444444,
              "#bd3786"
             ],
             [
              0.5555555555555556,
              "#d8576b"
             ],
             [
              0.6666666666666666,
              "#ed7953"
             ],
             [
              0.7777777777777778,
              "#fb9f3a"
             ],
             [
              0.8888888888888888,
              "#fdca26"
             ],
             [
              1,
              "#f0f921"
             ]
            ],
            "type": "heatmap"
           }
          ],
          "heatmapgl": [
           {
            "colorbar": {
             "outlinewidth": 0,
             "ticks": ""
            },
            "colorscale": [
             [
              0,
              "#0d0887"
             ],
             [
              0.1111111111111111,
              "#46039f"
             ],
             [
              0.2222222222222222,
              "#7201a8"
             ],
             [
              0.3333333333333333,
              "#9c179e"
             ],
             [
              0.4444444444444444,
              "#bd3786"
             ],
             [
              0.5555555555555556,
              "#d8576b"
             ],
             [
              0.6666666666666666,
              "#ed7953"
             ],
             [
              0.7777777777777778,
              "#fb9f3a"
             ],
             [
              0.8888888888888888,
              "#fdca26"
             ],
             [
              1,
              "#f0f921"
             ]
            ],
            "type": "heatmapgl"
           }
          ],
          "histogram": [
           {
            "marker": {
             "pattern": {
              "fillmode": "overlay",
              "size": 10,
              "solidity": 0.2
             }
            },
            "type": "histogram"
           }
          ],
          "histogram2d": [
           {
            "colorbar": {
             "outlinewidth": 0,
             "ticks": ""
            },
            "colorscale": [
             [
              0,
              "#0d0887"
             ],
             [
              0.1111111111111111,
              "#46039f"
             ],
             [
              0.2222222222222222,
              "#7201a8"
             ],
             [
              0.3333333333333333,
              "#9c179e"
             ],
             [
              0.4444444444444444,
              "#bd3786"
             ],
             [
              0.5555555555555556,
              "#d8576b"
             ],
             [
              0.6666666666666666,
              "#ed7953"
             ],
             [
              0.7777777777777778,
              "#fb9f3a"
             ],
             [
              0.8888888888888888,
              "#fdca26"
             ],
             [
              1,
              "#f0f921"
             ]
            ],
            "type": "histogram2d"
           }
          ],
          "histogram2dcontour": [
           {
            "colorbar": {
             "outlinewidth": 0,
             "ticks": ""
            },
            "colorscale": [
             [
              0,
              "#0d0887"
             ],
             [
              0.1111111111111111,
              "#46039f"
             ],
             [
              0.2222222222222222,
              "#7201a8"
             ],
             [
              0.3333333333333333,
              "#9c179e"
             ],
             [
              0.4444444444444444,
              "#bd3786"
             ],
             [
              0.5555555555555556,
              "#d8576b"
             ],
             [
              0.6666666666666666,
              "#ed7953"
             ],
             [
              0.7777777777777778,
              "#fb9f3a"
             ],
             [
              0.8888888888888888,
              "#fdca26"
             ],
             [
              1,
              "#f0f921"
             ]
            ],
            "type": "histogram2dcontour"
           }
          ],
          "mesh3d": [
           {
            "colorbar": {
             "outlinewidth": 0,
             "ticks": ""
            },
            "type": "mesh3d"
           }
          ],
          "parcoords": [
           {
            "line": {
             "colorbar": {
              "outlinewidth": 0,
              "ticks": ""
             }
            },
            "type": "parcoords"
           }
          ],
          "pie": [
           {
            "automargin": true,
            "type": "pie"
           }
          ],
          "scatter": [
           {
            "fillpattern": {
             "fillmode": "overlay",
             "size": 10,
             "solidity": 0.2
            },
            "type": "scatter"
           }
          ],
          "scatter3d": [
           {
            "line": {
             "colorbar": {
              "outlinewidth": 0,
              "ticks": ""
             }
            },
            "marker": {
             "colorbar": {
              "outlinewidth": 0,
              "ticks": ""
             }
            },
            "type": "scatter3d"
           }
          ],
          "scattercarpet": [
           {
            "marker": {
             "colorbar": {
              "outlinewidth": 0,
              "ticks": ""
             }
            },
            "type": "scattercarpet"
           }
          ],
          "scattergeo": [
           {
            "marker": {
             "colorbar": {
              "outlinewidth": 0,
              "ticks": ""
             }
            },
            "type": "scattergeo"
           }
          ],
          "scattergl": [
           {
            "marker": {
             "colorbar": {
              "outlinewidth": 0,
              "ticks": ""
             }
            },
            "type": "scattergl"
           }
          ],
          "scattermapbox": [
           {
            "marker": {
             "colorbar": {
              "outlinewidth": 0,
              "ticks": ""
             }
            },
            "type": "scattermapbox"
           }
          ],
          "scatterpolar": [
           {
            "marker": {
             "colorbar": {
              "outlinewidth": 0,
              "ticks": ""
             }
            },
            "type": "scatterpolar"
           }
          ],
          "scatterpolargl": [
           {
            "marker": {
             "colorbar": {
              "outlinewidth": 0,
              "ticks": ""
             }
            },
            "type": "scatterpolargl"
           }
          ],
          "scatterternary": [
           {
            "marker": {
             "colorbar": {
              "outlinewidth": 0,
              "ticks": ""
             }
            },
            "type": "scatterternary"
           }
          ],
          "surface": [
           {
            "colorbar": {
             "outlinewidth": 0,
             "ticks": ""
            },
            "colorscale": [
             [
              0,
              "#0d0887"
             ],
             [
              0.1111111111111111,
              "#46039f"
             ],
             [
              0.2222222222222222,
              "#7201a8"
             ],
             [
              0.3333333333333333,
              "#9c179e"
             ],
             [
              0.4444444444444444,
              "#bd3786"
             ],
             [
              0.5555555555555556,
              "#d8576b"
             ],
             [
              0.6666666666666666,
              "#ed7953"
             ],
             [
              0.7777777777777778,
              "#fb9f3a"
             ],
             [
              0.8888888888888888,
              "#fdca26"
             ],
             [
              1,
              "#f0f921"
             ]
            ],
            "type": "surface"
           }
          ],
          "table": [
           {
            "cells": {
             "fill": {
              "color": "#EBF0F8"
             },
             "line": {
              "color": "white"
             }
            },
            "header": {
             "fill": {
              "color": "#C8D4E3"
             },
             "line": {
              "color": "white"
             }
            },
            "type": "table"
           }
          ]
         },
         "layout": {
          "annotationdefaults": {
           "arrowcolor": "#2a3f5f",
           "arrowhead": 0,
           "arrowwidth": 1
          },
          "autotypenumbers": "strict",
          "coloraxis": {
           "colorbar": {
            "outlinewidth": 0,
            "ticks": ""
           }
          },
          "colorscale": {
           "diverging": [
            [
             0,
             "#8e0152"
            ],
            [
             0.1,
             "#c51b7d"
            ],
            [
             0.2,
             "#de77ae"
            ],
            [
             0.3,
             "#f1b6da"
            ],
            [
             0.4,
             "#fde0ef"
            ],
            [
             0.5,
             "#f7f7f7"
            ],
            [
             0.6,
             "#e6f5d0"
            ],
            [
             0.7,
             "#b8e186"
            ],
            [
             0.8,
             "#7fbc41"
            ],
            [
             0.9,
             "#4d9221"
            ],
            [
             1,
             "#276419"
            ]
           ],
           "sequential": [
            [
             0,
             "#0d0887"
            ],
            [
             0.1111111111111111,
             "#46039f"
            ],
            [
             0.2222222222222222,
             "#7201a8"
            ],
            [
             0.3333333333333333,
             "#9c179e"
            ],
            [
             0.4444444444444444,
             "#bd3786"
            ],
            [
             0.5555555555555556,
             "#d8576b"
            ],
            [
             0.6666666666666666,
             "#ed7953"
            ],
            [
             0.7777777777777778,
             "#fb9f3a"
            ],
            [
             0.8888888888888888,
             "#fdca26"
            ],
            [
             1,
             "#f0f921"
            ]
           ],
           "sequentialminus": [
            [
             0,
             "#0d0887"
            ],
            [
             0.1111111111111111,
             "#46039f"
            ],
            [
             0.2222222222222222,
             "#7201a8"
            ],
            [
             0.3333333333333333,
             "#9c179e"
            ],
            [
             0.4444444444444444,
             "#bd3786"
            ],
            [
             0.5555555555555556,
             "#d8576b"
            ],
            [
             0.6666666666666666,
             "#ed7953"
            ],
            [
             0.7777777777777778,
             "#fb9f3a"
            ],
            [
             0.8888888888888888,
             "#fdca26"
            ],
            [
             1,
             "#f0f921"
            ]
           ]
          },
          "colorway": [
           "#636efa",
           "#EF553B",
           "#00cc96",
           "#ab63fa",
           "#FFA15A",
           "#19d3f3",
           "#FF6692",
           "#B6E880",
           "#FF97FF",
           "#FECB52"
          ],
          "font": {
           "color": "#2a3f5f"
          },
          "geo": {
           "bgcolor": "white",
           "lakecolor": "white",
           "landcolor": "#E5ECF6",
           "showlakes": true,
           "showland": true,
           "subunitcolor": "white"
          },
          "hoverlabel": {
           "align": "left"
          },
          "hovermode": "closest",
          "mapbox": {
           "style": "light"
          },
          "paper_bgcolor": "white",
          "plot_bgcolor": "#E5ECF6",
          "polar": {
           "angularaxis": {
            "gridcolor": "white",
            "linecolor": "white",
            "ticks": ""
           },
           "bgcolor": "#E5ECF6",
           "radialaxis": {
            "gridcolor": "white",
            "linecolor": "white",
            "ticks": ""
           }
          },
          "scene": {
           "xaxis": {
            "backgroundcolor": "#E5ECF6",
            "gridcolor": "white",
            "gridwidth": 2,
            "linecolor": "white",
            "showbackground": true,
            "ticks": "",
            "zerolinecolor": "white"
           },
           "yaxis": {
            "backgroundcolor": "#E5ECF6",
            "gridcolor": "white",
            "gridwidth": 2,
            "linecolor": "white",
            "showbackground": true,
            "ticks": "",
            "zerolinecolor": "white"
           },
           "zaxis": {
            "backgroundcolor": "#E5ECF6",
            "gridcolor": "white",
            "gridwidth": 2,
            "linecolor": "white",
            "showbackground": true,
            "ticks": "",
            "zerolinecolor": "white"
           }
          },
          "shapedefaults": {
           "line": {
            "color": "#2a3f5f"
           }
          },
          "ternary": {
           "aaxis": {
            "gridcolor": "white",
            "linecolor": "white",
            "ticks": ""
           },
           "baxis": {
            "gridcolor": "white",
            "linecolor": "white",
            "ticks": ""
           },
           "bgcolor": "#E5ECF6",
           "caxis": {
            "gridcolor": "white",
            "linecolor": "white",
            "ticks": ""
           }
          },
          "title": {
           "x": 0.05
          },
          "xaxis": {
           "automargin": true,
           "gridcolor": "white",
           "linecolor": "white",
           "ticks": "",
           "title": {
            "standoff": 15
           },
           "zerolinecolor": "white",
           "zerolinewidth": 2
          },
          "yaxis": {
           "automargin": true,
           "gridcolor": "white",
           "linecolor": "white",
           "ticks": "",
           "title": {
            "standoff": 15
           },
           "zerolinecolor": "white",
           "zerolinewidth": 2
          }
         }
        },
        "title": {
         "text": "File Types Count"
        },
        "xaxis": {
         "title": {
          "text": "File Types"
         }
        },
        "yaxis": {
         "title": {
          "text": "Count"
         }
        }
       }
      }
     },
     "metadata": {},
     "output_type": "display_data"
    }
   ],
   "source": [
    "plot(grouped_data,inputted_cols)"
   ]
  },
  {
   "cell_type": "code",
   "execution_count": 16,
   "metadata": {},
   "outputs": [
    {
     "data": {
      "application/vnd.plotly.v1+json": {
       "config": {
        "plotlyServerURL": "https://plot.ly"
       },
       "data": [
        {
         "coloraxis": "coloraxis",
         "hovertemplate": "user_latitude=%{lat}<br>user_longitude=%{lon}<extra></extra>",
         "lat": [
          19.0785451,
          24.786306,
          21.1498134,
          -37.8254509,
          48.1371079,
          25.6093239,
          51.5073359,
          55.0288307,
          31.2638905,
          40.7127281,
          53.4071991,
          36.1622767,
          28.6517178,
          28.6517178,
          22.5726459,
          31.2638905,
          25.6093239,
          51.4538022,
          17.360589,
          55.7504461,
          31.2638905,
          19.0785451,
          39.7392364,
          null,
          19.0785451
         ],
         "lon": [
          72.878176,
          84.41448983395554,
          79.0820556,
          147.6304752,
          11.5753822,
          85.1235252,
          -0.12765,
          82.9226887,
          -98.5456116,
          -74.0060152,
          -2.99168,
          -86.7742984,
          77.2219388,
          77.2219388,
          88.3638953,
          -98.5456116,
          85.1235252,
          -2.5972985,
          78.4740613,
          37.6174943,
          -98.5456116,
          72.878176,
          -104.984862,
          null,
          72.878176
         ],
         "name": "",
         "opacity": 0.5,
         "radius": 10,
         "subplot": "mapbox",
         "type": "densitymapbox"
        }
       ],
       "layout": {
        "coloraxis": {
         "colorscale": [
          [
           0,
           "#0d0887"
          ],
          [
           0.1111111111111111,
           "#46039f"
          ],
          [
           0.2222222222222222,
           "#7201a8"
          ],
          [
           0.3333333333333333,
           "#9c179e"
          ],
          [
           0.4444444444444444,
           "#bd3786"
          ],
          [
           0.5555555555555556,
           "#d8576b"
          ],
          [
           0.6666666666666666,
           "#ed7953"
          ],
          [
           0.7777777777777778,
           "#fb9f3a"
          ],
          [
           0.8888888888888888,
           "#fdca26"
          ],
          [
           1,
           "#f0f921"
          ]
         ]
        },
        "legend": {
         "tracegroupgap": 0
        },
        "mapbox": {
         "center": {
          "lat": 30.812177362499998,
          "lon": 24.428639980581476
         },
         "domain": {
          "x": [
           0,
           1
          ],
          "y": [
           0,
           1
          ]
         },
         "style": "open-street-map",
         "zoom": 2
        },
        "margin": {
         "t": 60
        },
        "template": {
         "data": {
          "bar": [
           {
            "error_x": {
             "color": "#2a3f5f"
            },
            "error_y": {
             "color": "#2a3f5f"
            },
            "marker": {
             "line": {
              "color": "#E5ECF6",
              "width": 0.5
             },
             "pattern": {
              "fillmode": "overlay",
              "size": 10,
              "solidity": 0.2
             }
            },
            "type": "bar"
           }
          ],
          "barpolar": [
           {
            "marker": {
             "line": {
              "color": "#E5ECF6",
              "width": 0.5
             },
             "pattern": {
              "fillmode": "overlay",
              "size": 10,
              "solidity": 0.2
             }
            },
            "type": "barpolar"
           }
          ],
          "carpet": [
           {
            "aaxis": {
             "endlinecolor": "#2a3f5f",
             "gridcolor": "white",
             "linecolor": "white",
             "minorgridcolor": "white",
             "startlinecolor": "#2a3f5f"
            },
            "baxis": {
             "endlinecolor": "#2a3f5f",
             "gridcolor": "white",
             "linecolor": "white",
             "minorgridcolor": "white",
             "startlinecolor": "#2a3f5f"
            },
            "type": "carpet"
           }
          ],
          "choropleth": [
           {
            "colorbar": {
             "outlinewidth": 0,
             "ticks": ""
            },
            "type": "choropleth"
           }
          ],
          "contour": [
           {
            "colorbar": {
             "outlinewidth": 0,
             "ticks": ""
            },
            "colorscale": [
             [
              0,
              "#0d0887"
             ],
             [
              0.1111111111111111,
              "#46039f"
             ],
             [
              0.2222222222222222,
              "#7201a8"
             ],
             [
              0.3333333333333333,
              "#9c179e"
             ],
             [
              0.4444444444444444,
              "#bd3786"
             ],
             [
              0.5555555555555556,
              "#d8576b"
             ],
             [
              0.6666666666666666,
              "#ed7953"
             ],
             [
              0.7777777777777778,
              "#fb9f3a"
             ],
             [
              0.8888888888888888,
              "#fdca26"
             ],
             [
              1,
              "#f0f921"
             ]
            ],
            "type": "contour"
           }
          ],
          "contourcarpet": [
           {
            "colorbar": {
             "outlinewidth": 0,
             "ticks": ""
            },
            "type": "contourcarpet"
           }
          ],
          "heatmap": [
           {
            "colorbar": {
             "outlinewidth": 0,
             "ticks": ""
            },
            "colorscale": [
             [
              0,
              "#0d0887"
             ],
             [
              0.1111111111111111,
              "#46039f"
             ],
             [
              0.2222222222222222,
              "#7201a8"
             ],
             [
              0.3333333333333333,
              "#9c179e"
             ],
             [
              0.4444444444444444,
              "#bd3786"
             ],
             [
              0.5555555555555556,
              "#d8576b"
             ],
             [
              0.6666666666666666,
              "#ed7953"
             ],
             [
              0.7777777777777778,
              "#fb9f3a"
             ],
             [
              0.8888888888888888,
              "#fdca26"
             ],
             [
              1,
              "#f0f921"
             ]
            ],
            "type": "heatmap"
           }
          ],
          "heatmapgl": [
           {
            "colorbar": {
             "outlinewidth": 0,
             "ticks": ""
            },
            "colorscale": [
             [
              0,
              "#0d0887"
             ],
             [
              0.1111111111111111,
              "#46039f"
             ],
             [
              0.2222222222222222,
              "#7201a8"
             ],
             [
              0.3333333333333333,
              "#9c179e"
             ],
             [
              0.4444444444444444,
              "#bd3786"
             ],
             [
              0.5555555555555556,
              "#d8576b"
             ],
             [
              0.6666666666666666,
              "#ed7953"
             ],
             [
              0.7777777777777778,
              "#fb9f3a"
             ],
             [
              0.8888888888888888,
              "#fdca26"
             ],
             [
              1,
              "#f0f921"
             ]
            ],
            "type": "heatmapgl"
           }
          ],
          "histogram": [
           {
            "marker": {
             "pattern": {
              "fillmode": "overlay",
              "size": 10,
              "solidity": 0.2
             }
            },
            "type": "histogram"
           }
          ],
          "histogram2d": [
           {
            "colorbar": {
             "outlinewidth": 0,
             "ticks": ""
            },
            "colorscale": [
             [
              0,
              "#0d0887"
             ],
             [
              0.1111111111111111,
              "#46039f"
             ],
             [
              0.2222222222222222,
              "#7201a8"
             ],
             [
              0.3333333333333333,
              "#9c179e"
             ],
             [
              0.4444444444444444,
              "#bd3786"
             ],
             [
              0.5555555555555556,
              "#d8576b"
             ],
             [
              0.6666666666666666,
              "#ed7953"
             ],
             [
              0.7777777777777778,
              "#fb9f3a"
             ],
             [
              0.8888888888888888,
              "#fdca26"
             ],
             [
              1,
              "#f0f921"
             ]
            ],
            "type": "histogram2d"
           }
          ],
          "histogram2dcontour": [
           {
            "colorbar": {
             "outlinewidth": 0,
             "ticks": ""
            },
            "colorscale": [
             [
              0,
              "#0d0887"
             ],
             [
              0.1111111111111111,
              "#46039f"
             ],
             [
              0.2222222222222222,
              "#7201a8"
             ],
             [
              0.3333333333333333,
              "#9c179e"
             ],
             [
              0.4444444444444444,
              "#bd3786"
             ],
             [
              0.5555555555555556,
              "#d8576b"
             ],
             [
              0.6666666666666666,
              "#ed7953"
             ],
             [
              0.7777777777777778,
              "#fb9f3a"
             ],
             [
              0.8888888888888888,
              "#fdca26"
             ],
             [
              1,
              "#f0f921"
             ]
            ],
            "type": "histogram2dcontour"
           }
          ],
          "mesh3d": [
           {
            "colorbar": {
             "outlinewidth": 0,
             "ticks": ""
            },
            "type": "mesh3d"
           }
          ],
          "parcoords": [
           {
            "line": {
             "colorbar": {
              "outlinewidth": 0,
              "ticks": ""
             }
            },
            "type": "parcoords"
           }
          ],
          "pie": [
           {
            "automargin": true,
            "type": "pie"
           }
          ],
          "scatter": [
           {
            "fillpattern": {
             "fillmode": "overlay",
             "size": 10,
             "solidity": 0.2
            },
            "type": "scatter"
           }
          ],
          "scatter3d": [
           {
            "line": {
             "colorbar": {
              "outlinewidth": 0,
              "ticks": ""
             }
            },
            "marker": {
             "colorbar": {
              "outlinewidth": 0,
              "ticks": ""
             }
            },
            "type": "scatter3d"
           }
          ],
          "scattercarpet": [
           {
            "marker": {
             "colorbar": {
              "outlinewidth": 0,
              "ticks": ""
             }
            },
            "type": "scattercarpet"
           }
          ],
          "scattergeo": [
           {
            "marker": {
             "colorbar": {
              "outlinewidth": 0,
              "ticks": ""
             }
            },
            "type": "scattergeo"
           }
          ],
          "scattergl": [
           {
            "marker": {
             "colorbar": {
              "outlinewidth": 0,
              "ticks": ""
             }
            },
            "type": "scattergl"
           }
          ],
          "scattermapbox": [
           {
            "marker": {
             "colorbar": {
              "outlinewidth": 0,
              "ticks": ""
             }
            },
            "type": "scattermapbox"
           }
          ],
          "scatterpolar": [
           {
            "marker": {
             "colorbar": {
              "outlinewidth": 0,
              "ticks": ""
             }
            },
            "type": "scatterpolar"
           }
          ],
          "scatterpolargl": [
           {
            "marker": {
             "colorbar": {
              "outlinewidth": 0,
              "ticks": ""
             }
            },
            "type": "scatterpolargl"
           }
          ],
          "scatterternary": [
           {
            "marker": {
             "colorbar": {
              "outlinewidth": 0,
              "ticks": ""
             }
            },
            "type": "scatterternary"
           }
          ],
          "surface": [
           {
            "colorbar": {
             "outlinewidth": 0,
             "ticks": ""
            },
            "colorscale": [
             [
              0,
              "#0d0887"
             ],
             [
              0.1111111111111111,
              "#46039f"
             ],
             [
              0.2222222222222222,
              "#7201a8"
             ],
             [
              0.3333333333333333,
              "#9c179e"
             ],
             [
              0.4444444444444444,
              "#bd3786"
             ],
             [
              0.5555555555555556,
              "#d8576b"
             ],
             [
              0.6666666666666666,
              "#ed7953"
             ],
             [
              0.7777777777777778,
              "#fb9f3a"
             ],
             [
              0.8888888888888888,
              "#fdca26"
             ],
             [
              1,
              "#f0f921"
             ]
            ],
            "type": "surface"
           }
          ],
          "table": [
           {
            "cells": {
             "fill": {
              "color": "#EBF0F8"
             },
             "line": {
              "color": "white"
             }
            },
            "header": {
             "fill": {
              "color": "#C8D4E3"
             },
             "line": {
              "color": "white"
             }
            },
            "type": "table"
           }
          ]
         },
         "layout": {
          "annotationdefaults": {
           "arrowcolor": "#2a3f5f",
           "arrowhead": 0,
           "arrowwidth": 1
          },
          "autotypenumbers": "strict",
          "coloraxis": {
           "colorbar": {
            "outlinewidth": 0,
            "ticks": ""
           }
          },
          "colorscale": {
           "diverging": [
            [
             0,
             "#8e0152"
            ],
            [
             0.1,
             "#c51b7d"
            ],
            [
             0.2,
             "#de77ae"
            ],
            [
             0.3,
             "#f1b6da"
            ],
            [
             0.4,
             "#fde0ef"
            ],
            [
             0.5,
             "#f7f7f7"
            ],
            [
             0.6,
             "#e6f5d0"
            ],
            [
             0.7,
             "#b8e186"
            ],
            [
             0.8,
             "#7fbc41"
            ],
            [
             0.9,
             "#4d9221"
            ],
            [
             1,
             "#276419"
            ]
           ],
           "sequential": [
            [
             0,
             "#0d0887"
            ],
            [
             0.1111111111111111,
             "#46039f"
            ],
            [
             0.2222222222222222,
             "#7201a8"
            ],
            [
             0.3333333333333333,
             "#9c179e"
            ],
            [
             0.4444444444444444,
             "#bd3786"
            ],
            [
             0.5555555555555556,
             "#d8576b"
            ],
            [
             0.6666666666666666,
             "#ed7953"
            ],
            [
             0.7777777777777778,
             "#fb9f3a"
            ],
            [
             0.8888888888888888,
             "#fdca26"
            ],
            [
             1,
             "#f0f921"
            ]
           ],
           "sequentialminus": [
            [
             0,
             "#0d0887"
            ],
            [
             0.1111111111111111,
             "#46039f"
            ],
            [
             0.2222222222222222,
             "#7201a8"
            ],
            [
             0.3333333333333333,
             "#9c179e"
            ],
            [
             0.4444444444444444,
             "#bd3786"
            ],
            [
             0.5555555555555556,
             "#d8576b"
            ],
            [
             0.6666666666666666,
             "#ed7953"
            ],
            [
             0.7777777777777778,
             "#fb9f3a"
            ],
            [
             0.8888888888888888,
             "#fdca26"
            ],
            [
             1,
             "#f0f921"
            ]
           ]
          },
          "colorway": [
           "#636efa",
           "#EF553B",
           "#00cc96",
           "#ab63fa",
           "#FFA15A",
           "#19d3f3",
           "#FF6692",
           "#B6E880",
           "#FF97FF",
           "#FECB52"
          ],
          "font": {
           "color": "#2a3f5f"
          },
          "geo": {
           "bgcolor": "white",
           "lakecolor": "white",
           "landcolor": "#E5ECF6",
           "showlakes": true,
           "showland": true,
           "subunitcolor": "white"
          },
          "hoverlabel": {
           "align": "left"
          },
          "hovermode": "closest",
          "mapbox": {
           "style": "light"
          },
          "paper_bgcolor": "white",
          "plot_bgcolor": "#E5ECF6",
          "polar": {
           "angularaxis": {
            "gridcolor": "white",
            "linecolor": "white",
            "ticks": ""
           },
           "bgcolor": "#E5ECF6",
           "radialaxis": {
            "gridcolor": "white",
            "linecolor": "white",
            "ticks": ""
           }
          },
          "scene": {
           "xaxis": {
            "backgroundcolor": "#E5ECF6",
            "gridcolor": "white",
            "gridwidth": 2,
            "linecolor": "white",
            "showbackground": true,
            "ticks": "",
            "zerolinecolor": "white"
           },
           "yaxis": {
            "backgroundcolor": "#E5ECF6",
            "gridcolor": "white",
            "gridwidth": 2,
            "linecolor": "white",
            "showbackground": true,
            "ticks": "",
            "zerolinecolor": "white"
           },
           "zaxis": {
            "backgroundcolor": "#E5ECF6",
            "gridcolor": "white",
            "gridwidth": 2,
            "linecolor": "white",
            "showbackground": true,
            "ticks": "",
            "zerolinecolor": "white"
           }
          },
          "shapedefaults": {
           "line": {
            "color": "#2a3f5f"
           }
          },
          "ternary": {
           "aaxis": {
            "gridcolor": "white",
            "linecolor": "white",
            "ticks": ""
           },
           "baxis": {
            "gridcolor": "white",
            "linecolor": "white",
            "ticks": ""
           },
           "bgcolor": "#E5ECF6",
           "caxis": {
            "gridcolor": "white",
            "linecolor": "white",
            "ticks": ""
           }
          },
          "title": {
           "x": 0.05
          },
          "xaxis": {
           "automargin": true,
           "gridcolor": "white",
           "linecolor": "white",
           "ticks": "",
           "title": {
            "standoff": 15
           },
           "zerolinecolor": "white",
           "zerolinewidth": 2
          },
          "yaxis": {
           "automargin": true,
           "gridcolor": "white",
           "linecolor": "white",
           "ticks": "",
           "title": {
            "standoff": 15
           },
           "zerolinecolor": "white",
           "zerolinewidth": 2
          }
         }
        },
        "title": {
         "text": "Your Map Title"
        }
       }
      }
     },
     "metadata": {},
     "output_type": "display_data"
    }
   ],
   "source": [
    "fig = px.density_mapbox(viz_data, lat='user_latitude', lon='user_longitude', zoom=2, \n",
    "                        mapbox_style='open-street-map', center=dict(lat=viz_data['user_latitude'].mean(), \n",
    "                        lon=viz_data['user_longitude'].mean()), opacity=0.5, radius=10)\n",
    "\n",
    "fig.update_layout(title='Your Map Title')\n",
    "\n",
    "fig.show()"
   ]
  },
  {
   "cell_type": "code",
   "execution_count": 8,
   "metadata": {},
   "outputs": [],
   "source": [
    "bins = [11, 19, 26, 41, 56, 76]\n",
    "labels = ['11-18', '19-25', '26-40', '41-55', '56-75']\n",
    "\n",
    "# create a new column 'Ranged_user' that contains the age ranges\n",
    "data['Age_Groups'] = pd.cut(data['User_Age'], bins=bins, labels=labels, include_lowest=True)\n",
    "\n",
    "# count the values in each bin\n"
   ]
  },
  {
   "cell_type": "code",
   "execution_count": null,
   "metadata": {},
   "outputs": [],
   "source": []
  }
 ],
 "metadata": {
  "kernelspec": {
   "display_name": "malware",
   "language": "python",
   "name": "python3"
  },
  "language_info": {
   "codemirror_mode": {
    "name": "ipython",
    "version": 3
   },
   "file_extension": ".py",
   "mimetype": "text/x-python",
   "name": "python",
   "nbconvert_exporter": "python",
   "pygments_lexer": "ipython3",
   "version": "3.10.3"
  },
  "orig_nbformat": 4
 },
 "nbformat": 4,
 "nbformat_minor": 2
}
